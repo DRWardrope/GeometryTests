{
 "cells": [
  {
   "cell_type": "markdown",
   "metadata": {},
   "source": [
    "# Vectorisation tests\n",
    "\n",
    "Dot product is already tested in DotTest\n",
    "\n",
    "## Distance"
   ]
  },
  {
   "cell_type": "code",
   "execution_count": 1,
   "metadata": {},
   "outputs": [],
   "source": [
    "import numpy as np\n",
    "import matplotlib.pyplot as plt\n",
    "from matplotlib import collections, lines, markers, path, patches\n",
    "from mpl_toolkits.mplot3d import Axes3D\n",
    "%matplotlib inline\n",
    "from geometry import dot, get_metric"
   ]
  },
  {
   "cell_type": "code",
   "execution_count": 2,
   "metadata": {},
   "outputs": [],
   "source": [
    "def distance(u, v, geometry=\"spherical\"):\n",
    "    '''\n",
    "        Calculate distance on the manifold between two pts\n",
    "        Inputs: u, v: two vectors, represented as np.arrays\n",
    "        Outputs: distance, a 1-D real number\n",
    "    '''\n",
    "    dotprod = dot(u,v,geometry)\n",
    "#    if np.abs(dotprod) > 1:\n",
    "#        print(\"distance: {}.{} = {:.3g}\".format(u, v, dotprod))\n",
    "\n",
    "    if geometry == \"spherical\":\n",
    "        return np.arccos(dotprod)\n",
    "    elif geometry == \"hyperbolic\":\n",
    "        return np.arccosh(-dotprod)\n",
    "    elif geometry == \"euclidean\":\n",
    "        return np.sqrt(dot(u-v, u-v, geometry))\n",
    "    else:\n",
    "        print(\"geometry = {} is not a valid option! Try 'spherical' or 'hyperbolic'\".format(geometry))"
   ]
  },
  {
   "cell_type": "code",
   "execution_count": 3,
   "metadata": {},
   "outputs": [
    {
     "name": "stdout",
     "output_type": "stream",
     "text": [
      "[[0.10016675]\n",
      " [1.00500417]]\n",
      "[[1.33564747]\n",
      " [1.66851855]]\n"
     ]
    }
   ],
   "source": [
    "alpha = 0.1\n",
    "beta = 1.1\n",
    "a = np.array([[np.sinh(alpha), np.cosh(alpha)]]).T\n",
    "b = np.array([[np.sinh(beta), np.cosh(beta)]]).T\n",
    "print(a)\n",
    "print(b)"
   ]
  },
  {
   "cell_type": "code",
   "execution_count": 4,
   "metadata": {},
   "outputs": [
    {
     "data": {
      "text/plain": [
       "array([[1.]])"
      ]
     },
     "execution_count": 4,
     "metadata": {},
     "output_type": "execute_result"
    }
   ],
   "source": [
    "distance(a, b, geometry=\"hyperbolic\")"
   ]
  },
  {
   "cell_type": "code",
   "execution_count": 5,
   "metadata": {},
   "outputs": [
    {
     "name": "stdout",
     "output_type": "stream",
     "text": [
      "[[-0.10016675]\n",
      " [ 1.00500417]]\n",
      "[[-1.33564747]\n",
      " [ 1.66851855]]\n"
     ]
    }
   ],
   "source": [
    "c = np.array([[-1, 0],[0, 1]]).dot(a)\n",
    "d = np.array([[-1, 0],[0, 1]]).dot(b)\n",
    "print(c)\n",
    "print(d)"
   ]
  },
  {
   "cell_type": "code",
   "execution_count": 6,
   "metadata": {},
   "outputs": [
    {
     "name": "stdout",
     "output_type": "stream",
     "text": [
      "[[0.2]]\n",
      "[[1.2]]\n",
      "[[1.2]]\n",
      "[[2.2]]\n"
     ]
    }
   ],
   "source": [
    "print(distance(a, c, geometry=\"hyperbolic\"))\n",
    "print(distance(a, d, geometry=\"hyperbolic\"))\n",
    "print(distance(b, c, geometry=\"hyperbolic\"))\n",
    "print(distance(b, d, geometry=\"hyperbolic\"))"
   ]
  },
  {
   "cell_type": "code",
   "execution_count": 47,
   "metadata": {},
   "outputs": [
    {
     "name": "stdout",
     "output_type": "stream",
     "text": [
      "[[0.10016675 1.33564747]\n",
      " [1.00500417 1.66851855]]\n",
      "[[-0.10016675 -1.33564747]\n",
      " [ 1.00500417  1.66851855]]\n"
     ]
    },
    {
     "data": {
      "text/plain": [
       "array([[0.2, 1.2],\n",
       "       [1.2, 2.2]])"
      ]
     },
     "execution_count": 47,
     "metadata": {},
     "output_type": "execute_result"
    }
   ],
   "source": [
    "ab = np.hstack([a, b])\n",
    "print(ab)\n",
    "cd = np.hstack([c, d])\n",
    "print(cd)\n",
    "distance(ab, cd, geometry=\"hyperbolic\")"
   ]
  },
  {
   "cell_type": "code",
   "execution_count": 8,
   "metadata": {},
   "outputs": [
    {
     "data": {
      "text/plain": [
       "array([[0.2, 1.2]])"
      ]
     },
     "execution_count": 8,
     "metadata": {},
     "output_type": "execute_result"
    }
   ],
   "source": [
    "distance(a, cd, geometry=\"hyperbolic\")"
   ]
  },
  {
   "cell_type": "code",
   "execution_count": 54,
   "metadata": {},
   "outputs": [],
   "source": [
    "def frechet_diff_vectorised(p_eval, points, geometry=\"spherical\"):\n",
    "    '''\n",
    "        Calculates the differential to enable a gradient descent algorithm to find \n",
    "        the Karcher/Fréchet mean of a set of points.\n",
    "        Inputs:\n",
    "            p_eval: Point at which to evaluate the derivative (usually a guess at \n",
    "                    the mean). (d+1)-dimensional vector, expressed in ambient space\n",
    "                    coordinates.\n",
    "            points: List of points which the derivative is calculate w.r.t. to. \n",
    "                    (d+1)-dimensional vector, expressed in ambient space\n",
    "                    coordinates.\n",
    "            geometry: string specifying which metric and distance function to use.\n",
    "        Outputs:\n",
    "            Derivative: (d+1)-dimensional vector, expressed in ambient space\n",
    "                        coordinates.\n",
    "        Note: should vectorise to remove loop over points.\n",
    "    '''\n",
    "    metric = get_metric(p_eval.shape[0], geometry)\n",
    "#    update = np.zeros([p_eval.shape[0], 1])\n",
    "    coeffs = -2.*distance(p_eval, points, geometry)\n",
    "    print(\"numerator = \",coeffs)\n",
    "    if geometry == \"spherical\":\n",
    "        coeffs /= np.sqrt(1.-dot(p_eval, points, geometry)**2)+ 1.e-10\n",
    "    elif geometry == \"hyperbolic\":\n",
    "        coeffs /= np.sqrt(dot(p_eval, points, geometry)**2-1.)+ 1.e-10\n",
    "    print(\"coeffs =\",coeffs)\n",
    "    print(\"points =\", points)\n",
    "    print(\"coeffs*points = \", coeffs*points)\n",
    "    return np.atleast_2d(np.sum(coeffs*points, axis=1)).T\n"
   ]
  },
  {
   "cell_type": "code",
   "execution_count": 53,
   "metadata": {},
   "outputs": [
    {
     "name": "stdout",
     "output_type": "stream",
     "text": [
      "numerator =  [[-0.4 -2.4]]\n",
      "coeffs = [[-1.98672863 -1.58997115]]\n",
      "points = [[-0.10016675 -1.33564747]\n",
      " [ 1.00500417  1.66851855]]\n",
      "coeffs*points =  [[ 0.19900415  2.12364094]\n",
      " [-1.99667055 -2.65289636]]\n"
     ]
    },
    {
     "data": {
      "text/plain": [
       "array([[ 2.32264509],\n",
       "       [-4.64956691]])"
      ]
     },
     "execution_count": 53,
     "metadata": {},
     "output_type": "execute_result"
    }
   ],
   "source": [
    "frechet_diff_vectorised(a, cd, geometry=\"hyperbolic\")"
   ]
  },
  {
   "cell_type": "code",
   "execution_count": 50,
   "metadata": {},
   "outputs": [],
   "source": [
    "def frechet_diff(p_eval, points, geometry=\"spherical\"):\n",
    "    '''\n",
    "        Calculates the differential to enable a gradient descent algorithm to find \n",
    "        the Karcher/Fréchet mean of a set of points.\n",
    "        Inputs:\n",
    "            p_eval: Point at which to evaluate the derivative (usually a guess at \n",
    "                    the mean). (d+1)-dimensional vector, expressed in ambient space\n",
    "                    coordinates.\n",
    "            points: List of points which the derivative is calculate w.r.t. to. \n",
    "                    (d+1)-dimensional vector, expressed in ambient space\n",
    "                    coordinates.\n",
    "            geometry: string specifying which metric and distance function to use.\n",
    "        Outputs:\n",
    "            Derivative: (d+1)-dimensional vector, expressed in ambient space\n",
    "                        coordinates.\n",
    "        Note: should vectorise to remove loop over points.\n",
    "    '''\n",
    "    metric = get_metric(p_eval.shape[0], geometry)\n",
    "    update = np.zeros([p_eval.shape[0], 1])\n",
    "#    print(\"frechet_diff: p_eval = {}, points = {}\".format(p_eval, points))\n",
    "    for xi in points:\n",
    "        if np.array_equal(p_eval,xi):\n",
    "           continue\n",
    "#        print(\"frechet_diff: xi =\", xi)\n",
    "        coeff = -2.*distance(p_eval, xi, geometry)\n",
    "        print(\"numerator =\", coeff)\n",
    "        if geometry == \"spherical\":\n",
    "            coeff /= np.sqrt(1.-dot(p_eval, xi, geometry)**2)+ 1.e-10\n",
    "        elif geometry == \"hyperbolic\":\n",
    "            coeff /= np.sqrt(dot(p_eval, xi, geometry)**2-1.)\n",
    "        print(\"frechet_diff: coeff =\", coeff)\n",
    "        print(\"coeffs*point = \",coeff*xi)\n",
    "#        update += coeff*metric.dot(xi)\n",
    "        update += coeff*xi\n",
    "    \n",
    "    print(\"frechet_diff: update = {}\".format(update))\n",
    "    return update"
   ]
  },
  {
   "cell_type": "code",
   "execution_count": 51,
   "metadata": {},
   "outputs": [
    {
     "name": "stdout",
     "output_type": "stream",
     "text": [
      "numerator = [[-0.4]]\n",
      "frechet_diff: coeff = [[-1.98672863]]\n",
      "coeffs*point =  [[ 0.19900415]\n",
      " [-1.99667055]]\n",
      "numerator = [[-2.4]]\n",
      "frechet_diff: coeff = [[-1.58997115]]\n",
      "coeffs*point =  [[ 2.12364094]\n",
      " [-2.65289636]]\n",
      "frechet_diff: update = [[ 2.32264509]\n",
      " [-4.64956691]]\n"
     ]
    },
    {
     "data": {
      "text/plain": [
       "array([[ 2.32264509],\n",
       "       [-4.64956691]])"
      ]
     },
     "execution_count": 51,
     "metadata": {},
     "output_type": "execute_result"
    }
   ],
   "source": [
    "frechet_diff(a, [c,d], geometry=\"hyperbolic\")"
   ]
  },
  {
   "cell_type": "code",
   "execution_count": 13,
   "metadata": {},
   "outputs": [
    {
     "name": "stdout",
     "output_type": "stream",
     "text": [
      "coeffs =  [[[-1.63320482]\n",
      "  [-2.35552805]]]\n"
     ]
    },
    {
     "data": {
      "text/plain": [
       "array([[ 2.57567115, -4.2853078 ]])"
      ]
     },
     "execution_count": 13,
     "metadata": {},
     "output_type": "execute_result"
    }
   ],
   "source": [
    "frechet_diff_vectorised(a, [c,d], geometry=\"hyperbolic\")"
   ]
  },
  {
   "cell_type": "code",
   "execution_count": null,
   "metadata": {},
   "outputs": [],
   "source": []
  }
 ],
 "metadata": {
  "kernelspec": {
   "display_name": "Python 3",
   "language": "python",
   "name": "python3"
  },
  "language_info": {
   "codemirror_mode": {
    "name": "ipython",
    "version": 3
   },
   "file_extension": ".py",
   "mimetype": "text/x-python",
   "name": "python",
   "nbconvert_exporter": "python",
   "pygments_lexer": "ipython3",
   "version": "3.7.0"
  }
 },
 "nbformat": 4,
 "nbformat_minor": 2
}
