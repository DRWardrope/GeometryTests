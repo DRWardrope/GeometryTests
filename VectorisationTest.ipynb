{
 "cells": [
  {
   "cell_type": "markdown",
   "metadata": {},
   "source": [
    "# Vectorisation tests\n",
    "\n",
    "Dot product is already tested in DotTest\n",
    "\n",
    "## Distance"
   ]
  },
  {
   "cell_type": "code",
   "execution_count": 1,
   "metadata": {},
   "outputs": [],
   "source": [
    "import numpy as np\n",
    "import matplotlib.pyplot as plt\n",
    "from matplotlib import collections, lines, markers, path, patches\n",
    "from mpl_toolkits.mplot3d import Axes3D\n",
    "%matplotlib inline\n",
    "from geometry import dot, get_metric"
   ]
  },
  {
   "cell_type": "code",
   "execution_count": 2,
   "metadata": {},
   "outputs": [],
   "source": [
    "def distance(u, v, geometry=\"spherical\"):\n",
    "    '''\n",
    "        Calculate distance on the manifold between two pts\n",
    "        Inputs: u, v: two vectors, represented as np.arrays\n",
    "        Outputs: distance, a 1-D real number\n",
    "    '''\n",
    "    dotprod = dot(u,v,geometry)\n",
    "#    if np.abs(dotprod) > 1:\n",
    "#        print(\"distance: {}.{} = {:.3g}\".format(u, v, dotprod))\n",
    "\n",
    "    if geometry == \"spherical\":\n",
    "        return np.arccos(dotprod)\n",
    "    elif geometry == \"hyperbolic\":\n",
    "        return np.arccosh(-dotprod)\n",
    "    elif geometry == \"euclidean\":\n",
    "        return np.sqrt(dot(u-v, u-v, geometry))\n",
    "    else:\n",
    "        print(\"geometry = {} is not a valid option! Try 'spherical' or 'hyperbolic'\".format(geometry))"
   ]
  },
  {
   "cell_type": "code",
   "execution_count": 3,
   "metadata": {},
   "outputs": [
    {
     "name": "stdout",
     "output_type": "stream",
     "text": [
      "[[0.10016675]\n",
      " [1.00500417]]\n",
      "[[1.33564747]\n",
      " [1.66851855]]\n"
     ]
    }
   ],
   "source": [
    "alpha = 0.1\n",
    "beta = 1.1\n",
    "a = np.array([[np.sinh(alpha), np.cosh(alpha)]]).T\n",
    "b = np.array([[np.sinh(beta), np.cosh(beta)]]).T\n",
    "print(a)\n",
    "print(b)"
   ]
  },
  {
   "cell_type": "code",
   "execution_count": 4,
   "metadata": {},
   "outputs": [
    {
     "data": {
      "text/plain": [
       "array([[1.]])"
      ]
     },
     "execution_count": 4,
     "metadata": {},
     "output_type": "execute_result"
    }
   ],
   "source": [
    "distance(a, b, geometry=\"hyperbolic\")"
   ]
  },
  {
   "cell_type": "code",
   "execution_count": 5,
   "metadata": {},
   "outputs": [
    {
     "name": "stdout",
     "output_type": "stream",
     "text": [
      "[[-0.10016675]\n",
      " [ 1.00500417]]\n",
      "[[-1.33564747]\n",
      " [ 1.66851855]]\n"
     ]
    }
   ],
   "source": [
    "c = np.array([[-1, 0],[0, 1]]).dot(a)\n",
    "d = np.array([[-1, 0],[0, 1]]).dot(b)\n",
    "print(c)\n",
    "print(d)"
   ]
  },
  {
   "cell_type": "code",
   "execution_count": 6,
   "metadata": {},
   "outputs": [
    {
     "name": "stdout",
     "output_type": "stream",
     "text": [
      "[[0.2]]\n",
      "[[1.2]]\n",
      "[[1.2]]\n",
      "[[2.2]]\n"
     ]
    }
   ],
   "source": [
    "print(distance(a, c, geometry=\"hyperbolic\"))\n",
    "print(distance(a, d, geometry=\"hyperbolic\"))\n",
    "print(distance(b, c, geometry=\"hyperbolic\"))\n",
    "print(distance(b, d, geometry=\"hyperbolic\"))"
   ]
  },
  {
   "cell_type": "code",
   "execution_count": 7,
   "metadata": {},
   "outputs": [
    {
     "name": "stdout",
     "output_type": "stream",
     "text": [
      "[[0.10016675 1.33564747]\n",
      " [1.00500417 1.66851855]]\n",
      "[[-0.10016675 -1.33564747]\n",
      " [ 1.00500417  1.66851855]]\n"
     ]
    },
    {
     "data": {
      "text/plain": [
       "array([[0.2, 1.2],\n",
       "       [1.2, 2.2]])"
      ]
     },
     "execution_count": 7,
     "metadata": {},
     "output_type": "execute_result"
    }
   ],
   "source": [
    "ab = np.hstack([a, b])\n",
    "print(ab)\n",
    "cd = np.hstack([c, d])\n",
    "print(cd)\n",
    "distance(ab, cd, geometry=\"hyperbolic\")"
   ]
  },
  {
   "cell_type": "code",
   "execution_count": 8,
   "metadata": {},
   "outputs": [
    {
     "data": {
      "text/plain": [
       "array([[0.2, 1.2]])"
      ]
     },
     "execution_count": 8,
     "metadata": {},
     "output_type": "execute_result"
    }
   ],
   "source": [
    "distance(a, cd, geometry=\"hyperbolic\")"
   ]
  },
  {
   "cell_type": "code",
   "execution_count": 9,
   "metadata": {},
   "outputs": [],
   "source": [
    "def frechet_diff_vectorised(p_eval, points, geometry=\"spherical\"):\n",
    "    '''\n",
    "        Calculates the differential to enable a gradient descent algorithm to find \n",
    "        the Karcher/Fréchet mean of a set of points.\n",
    "        Inputs:\n",
    "            p_eval: Point at which to evaluate the derivative (usually a guess at \n",
    "                    the mean). (d+1)-dimensional vector, expressed in ambient space\n",
    "                    coordinates.\n",
    "            points: List of points which the derivative is calculate w.r.t. to. \n",
    "                    (d+1)-dimensional vector, expressed in ambient space\n",
    "                    coordinates.\n",
    "            geometry: string specifying which metric and distance function to use.\n",
    "        Outputs:\n",
    "            Derivative: (d+1)-dimensional vector, expressed in ambient space\n",
    "                        coordinates.\n",
    "        Note: should vectorise to remove loop over points.\n",
    "    '''\n",
    "    metric = get_metric(p_eval.shape[0], geometry)\n",
    "#    update = np.zeros([p_eval.shape[0], 1])\n",
    "    coeffs = -2.*distance(p_eval, points, geometry)\n",
    "    print(\"numerator = \",coeffs)\n",
    "    if geometry == \"spherical\":\n",
    "        coeffs /= np.sqrt(1.-dot(p_eval, points, geometry)**2)+ 1.e-10\n",
    "    elif geometry == \"hyperbolic\":\n",
    "        coeffs /= np.sqrt(dot(p_eval, points, geometry)**2-1.)+ 1.e-10\n",
    "    print(\"coeffs =\",coeffs)\n",
    "    print(\"points =\", points)\n",
    "    print(\"coeffs*points = \", coeffs*points)\n",
    "    return np.atleast_2d(np.sum(coeffs*points, axis=1)).T\n"
   ]
  },
  {
   "cell_type": "code",
   "execution_count": 10,
   "metadata": {},
   "outputs": [
    {
     "name": "stdout",
     "output_type": "stream",
     "text": [
      "numerator =  [[-0.4 -2.4]]\n",
      "coeffs = [[-1.98672863 -1.58997115]]\n",
      "points = [[-0.10016675 -1.33564747]\n",
      " [ 1.00500417  1.66851855]]\n",
      "coeffs*points =  [[ 0.19900415  2.12364094]\n",
      " [-1.99667055 -2.65289636]]\n"
     ]
    },
    {
     "data": {
      "text/plain": [
       "array([[ 2.32264509],\n",
       "       [-4.64956691]])"
      ]
     },
     "execution_count": 10,
     "metadata": {},
     "output_type": "execute_result"
    }
   ],
   "source": [
    "frechet_diff_vectorised(a, cd, geometry=\"hyperbolic\")"
   ]
  },
  {
   "cell_type": "code",
   "execution_count": 11,
   "metadata": {},
   "outputs": [],
   "source": [
    "def frechet_diff(p_eval, points, geometry=\"spherical\"):\n",
    "    '''\n",
    "        Calculates the differential to enable a gradient descent algorithm to find \n",
    "        the Karcher/Fréchet mean of a set of points.\n",
    "        Inputs:\n",
    "            p_eval: Point at which to evaluate the derivative (usually a guess at \n",
    "                    the mean). (d+1)-dimensional vector, expressed in ambient space\n",
    "                    coordinates.\n",
    "            points: List of points which the derivative is calculate w.r.t. to. \n",
    "                    (d+1)-dimensional vector, expressed in ambient space\n",
    "                    coordinates.\n",
    "            geometry: string specifying which metric and distance function to use.\n",
    "        Outputs:\n",
    "            Derivative: (d+1)-dimensional vector, expressed in ambient space\n",
    "                        coordinates.\n",
    "        Note: should vectorise to remove loop over points.\n",
    "    '''\n",
    "    metric = get_metric(p_eval.shape[0], geometry)\n",
    "    update = np.zeros([p_eval.shape[0], 1])\n",
    "#    print(\"frechet_diff: p_eval = {}, points = {}\".format(p_eval, points))\n",
    "    for xi in points:\n",
    "        if np.array_equal(p_eval,xi):\n",
    "           continue\n",
    "#        print(\"frechet_diff: xi =\", xi)\n",
    "        coeff = -2.*distance(p_eval, xi, geometry)\n",
    "        print(\"numerator =\", coeff)\n",
    "        if geometry == \"spherical\":\n",
    "            coeff /= np.sqrt(1.-dot(p_eval, xi, geometry)**2)+ 1.e-10\n",
    "        elif geometry == \"hyperbolic\":\n",
    "            coeff /= np.sqrt(dot(p_eval, xi, geometry)**2-1.)\n",
    "        print(\"frechet_diff: coeff =\", coeff)\n",
    "        print(\"coeffs*point = \",coeff*xi)\n",
    "#        update += coeff*metric.dot(xi)\n",
    "        update += coeff*xi\n",
    "    \n",
    "    print(\"frechet_diff: update = {}\".format(update))\n",
    "    return update"
   ]
  },
  {
   "cell_type": "code",
   "execution_count": 12,
   "metadata": {},
   "outputs": [
    {
     "name": "stdout",
     "output_type": "stream",
     "text": [
      "numerator = [[-0.4]]\n",
      "frechet_diff: coeff = [[-1.98672863]]\n",
      "coeffs*point =  [[ 0.19900415]\n",
      " [-1.99667055]]\n",
      "numerator = [[-2.4]]\n",
      "frechet_diff: coeff = [[-1.58997115]]\n",
      "coeffs*point =  [[ 2.12364094]\n",
      " [-2.65289636]]\n",
      "frechet_diff: update = [[ 2.32264509]\n",
      " [-4.64956691]]\n"
     ]
    },
    {
     "data": {
      "text/plain": [
       "array([[ 2.32264509],\n",
       "       [-4.64956691]])"
      ]
     },
     "execution_count": 12,
     "metadata": {},
     "output_type": "execute_result"
    }
   ],
   "source": [
    "frechet_diff(a, [c,d], geometry=\"hyperbolic\")"
   ]
  },
  {
   "cell_type": "code",
   "execution_count": 13,
   "metadata": {},
   "outputs": [
    {
     "name": "stdout",
     "output_type": "stream",
     "text": [
      "numerator =  [[[-1.63320482]\n",
      "  [-2.35552805]]]\n",
      "coeffs = [[[-1.79387494]\n",
      "  [-1.60286941]]]\n",
      "points = [array([[-0.10016675],\n",
      "       [ 1.00500417]]), array([[-1.33564747],\n",
      "       [ 1.66851855]])]\n",
      "coeffs*points =  [[[ 0.17968662]\n",
      "  [-1.61089044]]\n",
      "\n",
      " [[ 2.39598452]\n",
      "  [-2.67441736]]]\n"
     ]
    },
    {
     "data": {
      "text/plain": [
       "array([[-1.43120382, -0.27843283]])"
      ]
     },
     "execution_count": 13,
     "metadata": {},
     "output_type": "execute_result"
    }
   ],
   "source": [
    "frechet_diff_vectorised(a, [c,d], geometry=\"hyperbolic\")"
   ]
  },
  {
   "cell_type": "code",
   "execution_count": 14,
   "metadata": {},
   "outputs": [],
   "source": [
    "from geometry import project_to_tangent"
   ]
  },
  {
   "cell_type": "code",
   "execution_count": 15,
   "metadata": {},
   "outputs": [
    {
     "name": "stdout",
     "output_type": "stream",
     "text": [
      "[[1.]\n",
      " [1.]]\n",
      "[[0.10016675]\n",
      " [1.00500417]]\n",
      "[[1.33564747]\n",
      " [1.66851855]]\n",
      "--------------------------------------------------------------------------------\n",
      "project_to_tangent: point_on_manifold = [[0.10016675]\n",
      " [1.00500417]], displacement = [[1.]\n",
      " [1.]], geometry = hyperbolic\n",
      "[[0.90936538]\n",
      " [0.09063462]]\n",
      "project_to_tangent: point_on_manifold = [[1.33564747]\n",
      " [1.66851855]], displacement = [[1.]\n",
      " [1.]], geometry = hyperbolic\n",
      "[[0.55540158]\n",
      " [0.44459842]]\n",
      "--------------------------------------------------------------------------------\n",
      "[[1. 1.]\n",
      " [1. 1.]]\n",
      "[[0.10016675 1.33564747]\n",
      " [1.00500417 1.66851855]]\n",
      "project_to_tangent: point_on_manifold = [[0.10016675 1.33564747]\n",
      " [1.00500417 1.66851855]], displacement = [[1. 1.]\n",
      " [1. 1.]], geometry = hyperbolic\n",
      "[[0.90936538 0.55540158]\n",
      " [0.09063462 0.44459842]]\n"
     ]
    }
   ],
   "source": [
    "v = np.array([[1.], [1.]])\n",
    "print(v)\n",
    "print(a)\n",
    "print(b)\n",
    "print('-'*80)\n",
    "print(project_to_tangent(a, v, geometry=\"hyperbolic\"))\n",
    "print(project_to_tangent(b, v, geometry=\"hyperbolic\"))\n",
    "print('-'*80)\n",
    "vv = np.hstack([v, v])\n",
    "print(vv)\n",
    "print(ab)\n",
    "print(project_to_tangent(ab, vv, geometry=\"hyperbolic\"))"
   ]
  },
  {
   "cell_type": "markdown",
   "metadata": {},
   "source": [
    "So project_to_tangent is functions, but is incorrect for vectorised arguments. Diagonal elements seem to be correct..."
   ]
  },
  {
   "cell_type": "code",
   "execution_count": 16,
   "metadata": {},
   "outputs": [
    {
     "name": "stdout",
     "output_type": "stream",
     "text": [
      "a.a = [[-1.]]\n",
      "b.b = [[-1.]]\n",
      "d.d = [[-1.]]\n",
      "[a,b,c].[a,b,c] = [[-1.         -1.54308063 -1.81065557]\n",
      " [-1.54308063 -1.         -4.56790833]\n",
      " [-1.81065557 -4.56790833 -1.        ]]\n",
      "diagonal [a,b,c].[a,b,c] = [[-1.  0.  0.]\n",
      " [ 0. -1.  0.]\n",
      " [ 0.  0. -1.]]\n"
     ]
    }
   ],
   "source": [
    "print(\"a.a =\", dot(a, a, geometry=\"hyperbolic\"))\n",
    "print(\"b.b =\", dot(b, b, geometry=\"hyperbolic\"))\n",
    "print(\"d.d =\", dot(d, d, geometry=\"hyperbolic\"))\n",
    "p = np.hstack([a, b, d])\n",
    "print(\"[a,b,c].[a,b,c] =\", dot(p, p, geometry=\"hyperbolic\"))\n",
    "print(\"diagonal [a,b,c].[a,b,c] =\", np.diag(np.diag(dot(p, p, geometry=\"hyperbolic\"))))\n",
    "#c = np.array([[100, 200], [100, 200]])\n",
    "#print(c.dot(p))"
   ]
  },
  {
   "cell_type": "code",
   "execution_count": 17,
   "metadata": {},
   "outputs": [],
   "source": [
    "def project_to_tangent_vect(point_on_manifold, displacement, geometry=\"hyperbolic\"):\n",
    "    '''\n",
    "        Given a displacement, project onto tangent space defined at point_on_manifold\n",
    "        Inputs: point_on_manifold, an n-D vector in embedding space\n",
    "                displacement, an n-D vector of the displacement from point_on_manifold\n",
    "    '''\n",
    "    print(\"project_to_tangent: point_on_manifold = {}, displacement = {}, geometry = {}\".format(\n",
    "            point_on_manifold,\n",
    "            displacement,\n",
    "            geometry\n",
    "           )\n",
    "         )\n",
    "\n",
    "    xp_dot = dot(point_on_manifold, displacement, geometry)\n",
    "    xx_dot = dot(point_on_manifold, point_on_manifold, geometry)\n",
    "    #xx_dot = dot(point_on_manifold, point_on_manifold, geometry)\n",
    "    print(xp_dot)\n",
    "    print(xx_dot)\n",
    "    print(xp_dot/xx_dot)\n",
    "#    if geometry in \"hyperboloid\":\n",
    "#        xx_dot = -1. #if on hyperboloid manifold\n",
    "#    return displacement - np.einsum(\"i,ji->ji\", xp_dot/xx_dot, point_on_manifold)\n",
    "    return displacement - point_on_manifold*np.diag(xp_dot/xx_dot)"
   ]
  },
  {
   "cell_type": "code",
   "execution_count": 18,
   "metadata": {},
   "outputs": [
    {
     "name": "stdout",
     "output_type": "stream",
     "text": [
      "------------------------------------------------------------------------------\n",
      "project_to_tangent: point_on_manifold = [[0.10016675]\n",
      " [1.00500417]], displacement = [[1.]\n",
      " [1.]], geometry = hyperbolic\n",
      "[[-0.90483742]]\n",
      "[[-1.]]\n",
      "[[0.90483742]]\n",
      "[[0.90936538]\n",
      " [0.09063462]]\n",
      "project_to_tangent: point_on_manifold = [[1.33564747]\n",
      " [1.66851855]], displacement = [[1.]\n",
      " [1.]], geometry = hyperbolic\n",
      "[[-0.33287108]]\n",
      "[[-1.]]\n",
      "[[0.33287108]]\n",
      "[[0.55540158]\n",
      " [0.44459842]]\n",
      "------------------------------------------------------------------------------\n",
      "project_to_tangent: point_on_manifold = [[0.10016675 1.33564747]\n",
      " [1.00500417 1.66851855]], displacement = [[1. 1.]\n",
      " [1. 1.]], geometry = hyperbolic\n",
      "[[-0.90483742 -0.90483742]\n",
      " [-0.33287108 -0.33287108]]\n",
      "[[-1.         -1.54308063]\n",
      " [-1.54308063 -1.        ]]\n",
      "[[0.90483742 0.58638376]\n",
      " [0.21571853 0.33287108]]\n",
      "[[0.90936538 0.55540158]\n",
      " [0.09063462 0.44459842]]\n"
     ]
    }
   ],
   "source": [
    "print('-'*78)\n",
    "print(project_to_tangent_vect(a, v, geometry=\"hyperbolic\"))\n",
    "print(project_to_tangent_vect(b, v, geometry=\"hyperbolic\"))\n",
    "print('-'*78)\n",
    "print(project_to_tangent_vect(ab, vv, geometry=\"hyperbolic\"))"
   ]
  },
  {
   "cell_type": "code",
   "execution_count": 19,
   "metadata": {},
   "outputs": [],
   "source": [
    "def project_to_tangent_vect_quick(point_on_manifold, displacement, geometry=\"hyperbolic\"):\n",
    "    '''\n",
    "        Given a displacement, project onto tangent space defined at point_on_manifold\n",
    "        Inputs: point_on_manifold, an n-D vector in embedding space\n",
    "                displacement, an n-D vector of the displacement from point_on_manifold\n",
    "    '''\n",
    "    print(\"project_to_tangent: point_on_manifold = {}, displacement = {}, geometry = {}\".format(\n",
    "            point_on_manifold,\n",
    "            displacement,\n",
    "            geometry\n",
    "           )\n",
    "         )\n",
    "\n",
    "    xp_dot = np.diag(dot(point_on_manifold, displacement, geometry))\n",
    "    xx_dot = np.ones(xp_dot.shape)\n",
    "    if geometry in \"hyperbolic\":\n",
    "        xx_dot *= -1. #if on hyperboloid manifold\n",
    "    return displacement - (xp_dot/xx_dot)*point_on_manifold"
   ]
  },
  {
   "cell_type": "code",
   "execution_count": 24,
   "metadata": {},
   "outputs": [
    {
     "name": "stdout",
     "output_type": "stream",
     "text": [
      "------------------------------------------------------------------------------\n",
      "project_to_tangent: point_on_manifold = [[0.10016675]\n",
      " [1.00500417]], displacement = [[1.]\n",
      " [1.]], geometry = hyperbolic\n",
      "[[0.90936538]\n",
      " [0.09063462]]\n",
      "project_to_tangent: point_on_manifold = [[1.33564747]\n",
      " [1.66851855]], displacement = [[1.]\n",
      " [1.]], geometry = hyperbolic\n",
      "[[0.55540158]\n",
      " [0.44459842]]\n",
      "project_to_tangent: point_on_manifold = [[-0.10016675]\n",
      " [ 1.00500417]], displacement = [[1.]\n",
      " [1.]], geometry = hyperbolic\n",
      "[[ 1.11070138]\n",
      " [-0.11070138]]\n",
      "------------------------------------------------------------------------------\n",
      "project_to_tangent: point_on_manifold = [[0.10016675 1.33564747]\n",
      " [1.00500417 1.66851855]], displacement = [[1. 1.]\n",
      " [1. 1.]], geometry = hyperbolic\n",
      "[[0.90936538 0.55540158]\n",
      " [0.09063462 0.44459842]]\n",
      "------------------------------------------------------------------------------\n",
      "project_to_tangent: point_on_manifold = [[-0.10016675]\n",
      " [ 1.00500417]], displacement = [[1.]\n",
      " [1.]], geometry = hyperbolic\n",
      "[[ 1.11070138]\n",
      " [-0.11070138]]\n",
      "project_to_tangent: point_on_manifold = [[ 0.10016675  1.33564747 -0.10016675]\n",
      " [ 1.00500417  1.66851855  1.00500417]], displacement = [[1. 1. 1.]\n",
      " [1. 1. 1.]], geometry = hyperbolic\n",
      "[[ 0.90936538  0.55540158  1.11070138]\n",
      " [ 0.09063462  0.44459842 -0.11070138]]\n"
     ]
    }
   ],
   "source": [
    "print('-'*78)\n",
    "print(project_to_tangent_vect_quick(a, v, geometry=\"hyperbolic\"))\n",
    "print(project_to_tangent_vect_quick(b, v, geometry=\"hyperbolic\"))\n",
    "print(project_to_tangent_vect_quick(c, v, geometry=\"hyperbolic\"))\n",
    "print('-'*78)\n",
    "print(project_to_tangent_vect_quick(ab, vv, geometry=\"hyperbolic\"))\n",
    "print('-'*78)\n",
    "print(project_to_tangent(c, v, geometry=\"hyperbolic\"))\n",
    "abc = np.hstack([a,b,c])\n",
    "vvv = np.hstack([v,v,v])\n",
    "print(project_to_tangent_vect_quick(abc, vvv, geometry=\"hyperbolic\"))\n",
    "\n",
    "\n",
    "\n"
   ]
  },
  {
   "cell_type": "code",
   "execution_count": 21,
   "metadata": {},
   "outputs": [],
   "source": [
    "from geometry import exponential_map"
   ]
  },
  {
   "cell_type": "code",
   "execution_count": 28,
   "metadata": {},
   "outputs": [],
   "source": [
    "def exponential_map_vect(point_on_manifold, v_TpS, geometry=\"spherical\"):\n",
    "    '''\n",
    "        Projects vector from tangent space of point_on_manifold onto manifold\n",
    "        Inputs:\n",
    "                point_on_manifold is a tf.Tensor, the initial n-D point, or \n",
    "                an array of n-D points on the manifold, \n",
    "                v_TpS is a tf.Tensor, the n-D vector, or array of such vectors,\n",
    "                in tangent space\n",
    "    '''\n",
    "    norm_v_TpS = np.diag(np.sqrt(dot(v_TpS, v_TpS, geometry)))\n",
    "       \n",
    "    if geometry == \"spherical\":\n",
    "        #if abs(norm_v_TpS.squeeze()) < 1e-8:\n",
    "        #    return point_on_manifold\n",
    "        #mapped_pt = tf.cond(norm_v_TpS.squeeze()) < 1e-8\n",
    "        return np.cos(norm_v_TpS)*point_on_manifold + (np.sin(norm_v_TpS)/norm_v_TpS)*v_TpS\n",
    "    elif geometry == \"hyperbolic\":\n",
    "    #    print(norm_v_TpS)\n",
    "    #    print(np.where(np.greater(norm_v_TpS , 0.), \"Y\", \"N\"))\n",
    "        return np.where(\n",
    "                        np.greater(norm_v_TpS , 0.),\n",
    "                        np.cosh(norm_v_TpS)*point_on_manifold \n",
    "                            + (np.sinh(norm_v_TpS)/norm_v_TpS)*v_TpS,\n",
    "                        point_on_manifold\n",
    "        )\n",
    "    else:\n",
    "        print(\"geometry = {} is not a valid option! Try 'spherical' or 'hyperbolic'\".format(geometry))"
   ]
  },
  {
   "cell_type": "code",
   "execution_count": 29,
   "metadata": {},
   "outputs": [
    {
     "name": "stdout",
     "output_type": "stream",
     "text": [
      "project_to_tangent: point_on_manifold = [[0.10016675]\n",
      " [1.00500417]], displacement = [[1.]\n",
      " [1.]], geometry = hyperbolic\n",
      "project_to_tangent: point_on_manifold = [[1.33564747]\n",
      " [1.66851855]], displacement = [[1.]\n",
      " [1.]], geometry = hyperbolic\n",
      "Displace from points [[0.10016675]\n",
      " [1.00500417]] and [[1.33564747]\n",
      " [1.66851855]] by [[0.90936538]\n",
      " [0.09063462]] and [[0.55540158]\n",
      " [0.44459842]]\n",
      "original\n",
      "[[1.1826795 ]\n",
      " [1.54878365]]\n",
      "[[1.9760455 ]\n",
      " [2.21466833]]\n",
      "vectorised\n",
      "[[1.1826795  1.9760455 ]\n",
      " [1.54878365 2.21466833]]\n"
     ]
    }
   ],
   "source": [
    "v_TaS = project_to_tangent_vect_quick(a, v, geometry=\"hyperbolic\") \n",
    "v_TbS = project_to_tangent_vect_quick(b, v, geometry=\"hyperbolic\")\n",
    "print(\"Displace from points {} and {} by {} and {}\".format(a, b, v_TaS, v_TbS))\n",
    "print(\"original\") \n",
    "print(exponential_map(v_TaS, a, geometry=\"hyperbolic\"))\n",
    "print(exponential_map(v_TbS, b, geometry=\"hyperbolic\"))\n",
    "print(\"vectorised\")\n",
    "print(exponential_map_vect(ab, np.hstack([v_TaS, v_TbS]), geometry=\"hyperbolic\"))"
   ]
  },
  {
   "cell_type": "code",
   "execution_count": 31,
   "metadata": {},
   "outputs": [
    {
     "name": "stdout",
     "output_type": "stream",
     "text": [
      "[[0.10016675 1.33564747]\n",
      " [1.00500417 1.66851855]]\n"
     ]
    }
   ],
   "source": [
    "print(ab)"
   ]
  },
  {
   "cell_type": "code",
   "execution_count": 37,
   "metadata": {},
   "outputs": [
    {
     "data": {
      "text/plain": [
       "array([[0.10016675, 1.33564747],\n",
       "       [1.00500417, 1.66851855]])"
      ]
     },
     "execution_count": 37,
     "metadata": {},
     "output_type": "execute_result"
    }
   ],
   "source": [
    "np.stack([a,b], axis=1).squeeze()"
   ]
  },
  {
   "cell_type": "code",
   "execution_count": 38,
   "metadata": {},
   "outputs": [
    {
     "data": {
      "text/plain": [
       "array([[0.10016675, 0.10016675],\n",
       "       [1.00500417, 1.00500417]])"
      ]
     },
     "execution_count": 38,
     "metadata": {},
     "output_type": "execute_result"
    }
   ],
   "source": [
    "np.tile(a, 2)"
   ]
  },
  {
   "cell_type": "code",
   "execution_count": null,
   "metadata": {},
   "outputs": [],
   "source": []
  }
 ],
 "metadata": {
  "kernelspec": {
   "display_name": "Python 3",
   "language": "python",
   "name": "python3"
  },
  "language_info": {
   "codemirror_mode": {
    "name": "ipython",
    "version": 3
   },
   "file_extension": ".py",
   "mimetype": "text/x-python",
   "name": "python",
   "nbconvert_exporter": "python",
   "pygments_lexer": "ipython3",
   "version": "3.7.0"
  }
 },
 "nbformat": 4,
 "nbformat_minor": 2
}
