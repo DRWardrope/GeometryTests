{
 "cells": [
  {
   "cell_type": "markdown",
   "metadata": {},
   "source": [
    "# Test differentation\n",
    "\n",
    "Set up simple loss function"
   ]
  },
  {
   "cell_type": "code",
   "execution_count": 1,
   "metadata": {},
   "outputs": [],
   "source": [
    "import numpy as np\n",
    "import matplotlib.pyplot as plt\n",
    "from matplotlib import collections, lines, markers, path, patches\n",
    "%matplotlib inline"
   ]
  },
  {
   "cell_type": "code",
   "execution_count": 2,
   "metadata": {},
   "outputs": [],
   "source": [
    "from geometry import *"
   ]
  },
  {
   "cell_type": "code",
   "execution_count": 3,
   "metadata": {},
   "outputs": [],
   "source": [
    "theta = np.linspace(-0.323*np.pi, 0.323*np.pi, 1000)\n",
    "x0 = np.sinh(theta)\n",
    "x1 = np.cosh(theta)\n",
    "x = np.array([np.array([x0i, x1i]) for x0i, x1i in zip(x0, x1)])"
   ]
  },
  {
   "cell_type": "code",
   "execution_count": 4,
   "metadata": {},
   "outputs": [],
   "source": [
    "target = np.array([0., 1.])\n",
    "initial_point = np.array([np.sinh(0.9), np.cosh(0.9)])"
   ]
  },
  {
   "cell_type": "code",
   "execution_count": 5,
   "metadata": {},
   "outputs": [
    {
     "data": {
      "text/plain": [
       "<matplotlib.collections.PathCollection at 0x106405ac8>"
      ]
     },
     "execution_count": 5,
     "metadata": {},
     "output_type": "execute_result"
    },
    {
     "data": {
      "image/png": "[encoded data removed]",
      "text/plain": [
       "<Figure size 864x864 with 1 Axes>"
      ]
     },
     "metadata": {},
     "output_type": "display_data"
    }
   ],
   "source": [
    "fig = plt.figure(figsize=(12,12))\n",
    "ax = plt.gca(xlim=[-1.2, 1.5], ylim=[0.8, 1.6])\n",
    "ax.scatter(x0, x1, s=1)\n",
    "ax.scatter(target[0], target[1], color='r')\n",
    "ax.scatter(initial_point[0], initial_point[1])"
   ]
  },
  {
   "cell_type": "code",
   "execution_count": 6,
   "metadata": {},
   "outputs": [],
   "source": [
    "def error_differential_eucl(u, v, geometry=\"hyperbolic\"):\n",
    "    '''\n",
    "        Calculate differential of distance between points u and v, accounting for different\n",
    "        geometries by implementing an appropriate metric.\n",
    "        Inputs:\n",
    "            u: (d+1)-dimensional vector, expressed in ambient space coordinates\n",
    "            v: (d+1)-dimensional vector, expressed in ambient space coordinates\n",
    "            geometry: specifies which metric to use (and hence how inner product calculated)\n",
    "        Outputs:\n",
    "            gradient of the distance in (d+1)-dimensional ambient space coordinates\n",
    "    '''\n",
    "    # If u and v are identical, the gradient should be zero\n",
    "  # if np.array_equal(u, v):\n",
    "  #      return np.zeros(u.shape)\n",
    "    \n",
    "    # If u and v are different, calculate the gradient\n",
    "    metric = get_metric(u.shape[0], geometry)\n",
    "    print(\"u = {}, v = {}, u.v = {}\".format(u, v, dot(u, v, geometry)))\n",
    "    if geometry == \"spherical\":\n",
    "        coeff = -1./np.sqrt(1.-dot(u, v, geometry)**2)\n",
    "    if geometry == \"hyperbolic\":        \n",
    "        coeff = -1./np.sqrt(dot(u, v, geometry)**2-1.)\n",
    "    print(\"coefficient*2*u*metric.dot(v)= {:.4g}*2*{}*{}.dot({})\".format(\n",
    "            coeff, u, metric, v)\n",
    "         )\n",
    "    return coeff*2*u*metric.dot(v)\n",
    "    #return coeff*2*u*v"
   ]
  },
  {
   "cell_type": "code",
   "execution_count": 7,
   "metadata": {},
   "outputs": [],
   "source": [
    "def gradient_descent(pt_i, target, differential_fn, geometry=\"hyperbolic\", learning_rate=1.):\n",
    "    '''\n",
    "        Calculate local gradient of differential, given the current pt and the target.\n",
    "        Inputs:\n",
    "                Two (d+1)-dimensional vectors in ambient space co-ordinates, pt_i and target\n",
    "                pt_i: (d+1)-dimensional vector in ambient space co-ordinates,\n",
    "                       the point to evaluate the gradient at.\n",
    "                target: (d+1)-dimensional vectors in ambient space co-ordinates, the target point\n",
    "                differential_fn: function that calculates the derivative\n",
    "                learning_rate: dictates how far to step in gradient direction\n",
    "    '''\n",
    "    # Calculate gradient in ambient space co-ordinates\n",
    "    step = differential_fn(pt_i, target, geometry)\n",
    "    print(\"step =\",step)\n",
    "    # Project this gradient onto tangent space\n",
    "    projection = project_to_tangent(pt_i, step, geometry)\n",
    "    print(\"projection on tangent space = \",projection)\n",
    "    # Map to manifold and return this updated pt\n",
    "    return exponential_map(learning_rate*projection, pt_i, geometry)"
   ]
  },
  {
   "cell_type": "code",
   "execution_count": 8,
   "metadata": {},
   "outputs": [],
   "source": [
    "def error_differential_eucl_2(u, v, geometry=\"hyperbolic\"):\n",
    "    '''\n",
    "        Calculate differential of distance between points u and v, **with respect to u** accounting for different\n",
    "        geometries by implementing an appropriate metric.\n",
    "        Inputs:\n",
    "            u: (d+1)-dimensional vector, expressed in ambient space coordinates\n",
    "            v: (d+1)-dimensional vector, expressed in ambient space coordinates\n",
    "            geometry: specifies which metric to use (and hence how inner product calculated)\n",
    "        Outputs:\n",
    "            gradient of the distance in (d+1)-dimensional ambient space coordinates\n",
    "    '''\n",
    "    # If u and v are identical, the gradient should be zero\n",
    "  # if np.array_equal(u, v):\n",
    "  #      return np.zeros(u.shape)\n",
    "    \n",
    "    # If u and v are different, calculate the gradient\n",
    "    metric = get_metric(u.shape[0], geometry)\n",
    "    print(\"u = {}, v = {}, u.v = {}\".format(u, v, dot(u, v, geometry)))\n",
    "    if geometry == \"spherical\":\n",
    "        coeff = -1./np.sqrt(1.-dot(u, v, geometry)**2)\n",
    "    if geometry == \"hyperbolic\":        \n",
    "        coeff = -1./np.sqrt(dot(u, v, geometry)**2-1.) \n",
    "    print(\"metric.dot(v)*coefficient=\")\n",
    "    print(\"{}.dot({})*{}\".format(\n",
    "            metric, v, coeff)\n",
    "         )\n",
    "    return coeff*metric.dot(u)\n",
    "    #return coeff*u"
   ]
  },
  {
   "cell_type": "code",
   "execution_count": 9,
   "metadata": {},
   "outputs": [
    {
     "name": "stdout",
     "output_type": "stream",
     "text": [
      "u = [1.02651673 1.43308639], v = [0. 1.], u.v = -1.4330863854487743\n",
      "metric.dot(v)*coefficient=\n",
      "[[ 1.  0.]\n",
      " [ 0. -1.]].dot([0. 1.])*-0.9741682477800039\n",
      "step = [-1.          1.39606725]\n",
      "point_on_manifold = [1.02651673 1.43308639], displacement = [-1.          1.39606725]\n",
      "xp_norm = -3.0272016991963544, xx_norm = -1.0\n",
      "projection on tangent space =  [-4.10747318 -2.94217429]\n",
      "updated_pt =  [0.86861126 1.32456994]\n",
      "--------------------------------------------------------------------------------\n",
      "u = [0.86861126 1.32456994], v = [0. 1.], u.v = -1.324569935919965\n",
      "metric.dot(v)*coefficient=\n",
      "[[ 1.  0.]\n",
      " [ 0. -1.]].dot([0. 1.])*-1.1512629986867038\n",
      "step = [-1.          1.52492836]\n",
      "point_on_manifold = [0.86861126 1.32456994], displacement = [-1.          1.52492836]\n",
      "xp_norm = -2.8884855119451758, xx_norm = -0.9999999999999997\n",
      "projection on tangent space =  [-3.50897103 -2.30107271]\n",
      "updated_pt =  [0.73287085 1.23979824]\n",
      "--------------------------------------------------------------------------------\n",
      "u = [0.73287085 1.23979824], v = [0. 1.], u.v = -1.2397982421272953\n",
      "metric.dot(v)*coefficient=\n",
      "[[ 1.  0.]\n",
      " [ 0. -1.]].dot([0. 1.])*-1.3644968980379353\n",
      "step = [-1.          1.69170086]\n",
      "point_on_manifold = [0.73287085 1.23979824], displacement = [-1.          1.69170086]\n",
      "xp_norm = -2.8302385958577547, xx_norm = -0.9999999999999997\n",
      "projection on tangent space =  [-3.07419936 -1.81722398]\n",
      "updated_pt =  [0.6133089  1.17309327]\n",
      "--------------------------------------------------------------------------------\n",
      "u = [0.6133089  1.17309327], v = [0. 1.], u.v = -1.1730932654455806\n",
      "metric.dot(v)*coefficient=\n",
      "[[ 1.  0.]\n",
      " [ 0. -1.]].dot([0. 1.])*-1.6304997310890983\n",
      "step = [-1.          1.91272825]\n",
      "point_on_manifold = [0.6133089  1.17309327], displacement = [-1.          1.91272825]\n",
      "xp_norm = -2.8571175353521476, xx_norm = -0.9999999999999996\n",
      "projection on tangent space =  [-2.75229562 -1.43893709]\n",
      "updated_pt =  [0.5057582  1.12062097]\n",
      "--------------------------------------------------------------------------------\n",
      "u = [0.5057582  1.12062097], v = [0. 1.], u.v = -1.1206209684463877\n",
      "metric.dot(v)*coefficient=\n",
      "[[ 1.  0.]\n",
      " [ 0. -1.]].dot([0. 1.])*-1.9772294424548005\n",
      "step = [-1.          2.21572477]\n",
      "point_on_manifold = [0.5057582  1.12062097], displacement = [-1.          2.21572477]\n",
      "xp_norm = -2.988745838608062, xx_norm = -0.9999999999999996\n",
      "projection on tangent space =  [-2.51158271 -1.13352648]\n",
      "updated_pt =  [0.40719403 1.07972542]\n",
      "--------------------------------------------------------------------------------\n",
      "u = [0.40719403 1.07972542], v = [0. 1.], u.v = -1.0797254183422405\n",
      "metric.dot(v)*coefficient=\n",
      "[[ 1.  0.]\n",
      " [ 0. -1.]].dot([0. 1.])*-2.455831675983115\n",
      "step = [-1.          2.65162388]\n",
      "point_on_manifold = [0.40719403 1.07972542], displacement = [-1.          2.65162388]\n",
      "xp_norm = -3.2702197383080156, xx_norm = -0.9999999999999997\n",
      "projection on tangent space =  [-2.33161396 -0.87931549]\n",
      "updated_pt =  [0.31533347 1.04853955]\n",
      "--------------------------------------------------------------------------------\n",
      "u = [0.31533347 1.04853955], v = [0. 1.], u.v = -1.0485395539132496\n",
      "metric.dot(v)*coefficient=\n",
      "[[ 1.  0.]\n",
      " [ 0. -1.]].dot([0. 1.])*-3.171246001706644\n",
      "step = [-1.          3.32517687]\n",
      "point_on_manifold = [0.31533347 1.04853955], displacement = [-1.          3.32517687]\n",
      "xp_norm = -3.80191293795936, xx_norm = -0.9999999999999997\n",
      "projection on tangent space =  [-2.19887039 -0.66127923]\n",
      "updated_pt =  [0.22838552 1.02574848]\n",
      "--------------------------------------------------------------------------------\n",
      "u = [0.22838552 1.02574848], v = [0. 1.], u.v = -1.0257484814917537\n",
      "metric.dot(v)*coefficient=\n",
      "[[ 1.  0.]\n",
      " [ 0. -1.]].dot([0. 1.])*-4.378561238325343\n",
      "step = [-1.          4.49130254]\n",
      "point_on_manifold = [0.22838552 1.02574848], displacement = [-1.          4.49130254]\n",
      "xp_norm = -4.835332285055052, xx_norm = -1.0\n",
      "projection on tangent space =  [-2.10431989 -0.46853221]\n",
      "updated_pt =  [0.14488761 1.0104417 ]\n",
      "--------------------------------------------------------------------------------\n",
      "u = [0.14488761 1.0104417 ], v = [0. 1.], u.v = -1.0104416958146014\n",
      "metric.dot(v)*coefficient=\n",
      "[[ 1.  0.]\n",
      " [ 0. -1.]].dot([0. 1.])*-6.901901229384116\n",
      "step = [-1.          6.97396878]\n",
      "point_on_manifold = [0.14488761 1.0104417 ], displacement = [-1.          6.97396878]\n",
      "xp_norm = -7.191676457039534, xx_norm = -1.0000000000000002\n",
      "projection on tangent space =  [-2.04198484 -0.29280097]\n",
      "updated_pt =  [0.06359287 1.00201999]\n",
      "--------------------------------------------------------------------------------\n",
      "u = [0.06359287 1.00201999], v = [0. 1.], u.v = -1.0020199862950652\n",
      "metric.dot(v)*coefficient=\n",
      "[[ 1.  0.]\n",
      " [ 0. -1.]].dot([0. 1.])*-15.72503367538057\n",
      "step = [-1.         15.75679803]\n",
      "point_on_manifold = [0.06359287 1.00201999], displacement = [-1.         15.75679803]\n",
      "xp_norm = -15.852219412548894, xx_norm = -1.0\n",
      "projection on tangent space =  [-2.00808811 -0.12744265]\n",
      "updated_pt =  [-0.01661228  1.00013797]\n",
      "--------------------------------------------------------------------------------\n",
      "u = [-0.01661228  1.00013797], v = [0. 1.], u.v = -1.000137974382348\n",
      "metric.dot(v)*coefficient=\n",
      "[[ 1.  0.]\n",
      " [ 0. -1.]].dot([0. 1.])*-60.1964379268375\n",
      "step = [ 1.         60.20474349]\n",
      "point_on_manifold = [-0.01661228  1.00013797], displacement = [ 1.         60.20474349]\n",
      "xp_norm = -60.229662484118265, xx_norm = -1.0000000000000002\n",
      "projection on tangent space =  [ 2.00055194 -0.03322914]\n",
      "updated_pt =  [0.063442   1.00201042]\n",
      "--------------------------------------------------------------------------------\n",
      "u = [0.063442   1.00201042], v = [0. 1.], u.v = -1.0020104230493239\n",
      "metric.dot(v)*coefficient=\n",
      "[[ 1.  0.]\n",
      " [ 0. -1.]].dot([0. 1.])*-15.762427626466065\n",
      "step = [-1.         15.79411677]\n",
      "point_on_manifold = [0.063442   1.00201042], displacement = [-1.         15.79411677]\n",
      "xp_norm = -15.889311634906587, xx_norm = -1.0000000000000013\n",
      "projection on tangent space =  [-2.00804978 -0.1271391 ]\n",
      "updated_pt =  [-0.0167621   1.00014047]\n",
      "--------------------------------------------------------------------------------\n",
      "u = [-0.0167621   1.00014047], v = [0. 1.], u.v = -1.0001404740544309\n",
      "metric.dot(v)*coefficient=\n",
      "[[ 1.  0.]\n",
      " [ 0. -1.]].dot([0. 1.])*-59.65841243637213\n",
      "step = [ 1.        59.6667929]\n",
      "point_on_manifold = [-0.0167621   1.00014047], displacement = [ 1.        59.6667929]\n",
      "xp_norm = -59.691936627149545, xx_norm = -1.0000000000000016\n",
      "projection on tangent space =  [ 2.00056194 -0.0335289 ]\n",
      "updated_pt =  [0.06329211 1.00200094]\n",
      "--------------------------------------------------------------------------------\n",
      "u = [0.06329211 1.00200094], v = [0. 1.], u.v = -1.0020009435962773\n",
      "metric.dot(v)*coefficient=\n",
      "[[ 1.  0.]\n",
      " [ 0. -1.]].dot([0. 1.])*-15.799758098003316\n",
      "step = [-1.         15.83137252]\n",
      "point_on_manifold = [0.06329211 1.00200094], displacement = [-1.         15.83137252]\n",
      "xp_norm = -15.926342314520689, xx_norm = -1.0000000000000009\n",
      "projection on tangent space =  [-2.00801178 -0.1268375 ]\n",
      "updated_pt =  [-0.01691095  1.00014298]\n",
      "--------------------------------------------------------------------------------\n",
      "u = [-0.01691095  1.00014298], v = [0. 1.], u.v = -1.0001429799617438\n",
      "metric.dot(v)*coefficient=\n",
      "[[ 1.  0.]\n",
      " [ 0. -1.]].dot([0. 1.])*-59.133269315270795\n",
      "step = [ 1.         59.14172419]\n",
      "point_on_manifold = [-0.01691095  1.00014298], displacement = [ 1.         59.14172419]\n",
      "xp_norm = -59.1670912233634, xx_norm = -1.0000000000000009\n",
      "projection on tangent space =  [ 2.00057196 -0.03382674]\n",
      "updated_pt =  [0.06314317 1.00199155]\n",
      "--------------------------------------------------------------------------------\n",
      "u = [0.06314317 1.00199155], v = [0. 1.], u.v = -1.0019915471099907\n",
      "metric.dot(v)*coefficient=\n",
      "[[ 1.  0.]\n",
      " [ 0. -1.]].dot([0. 1.])*-15.83702448727115\n",
      "step = [-1.         15.86856467]\n",
      "point_on_manifold = [0.06314317 1.00199155], displacement = [-1.         15.86856467]\n",
      "xp_norm = -15.963310836175088, xx_norm = -1.0000000000000009\n",
      "projection on tangent space =  [-2.00797412 -0.12653785]\n",
      "updated_pt =  [-0.01705886  1.00014549]\n",
      "--------------------------------------------------------------------------------\n",
      "u = [-0.01705886  1.00014549], v = [0. 1.], u.v = -1.000145491781088\n",
      "metric.dot(v)*coefficient=\n",
      "[[ 1.  0.]\n",
      " [ 0. -1.]].dot([0. 1.])*-58.62056175658031\n",
      "step = [ 1.         58.62909057]\n",
      "point_on_manifold = [-0.01705886  1.00014549], displacement = [ 1.         58.62909057]\n",
      "xp_norm = -58.6546794780771, xx_norm = -1.000000000000001\n",
      "projection on tangent space =  [ 2.00058201 -0.03412269]\n",
      "updated_pt =  [0.0629952  1.00198223]\n",
      "--------------------------------------------------------------------------------\n",
      "[array([1.02651673, 1.43308639]), array([0.86861126, 1.32456994]), array([0.73287085, 1.23979824]), array([0.6133089 , 1.17309327]), array([0.5057582 , 1.12062097]), array([0.40719403, 1.07972542]), array([0.31533347, 1.04853955]), array([0.22838552, 1.02574848]), array([0.14488761, 1.0104417 ]), array([0.06359287, 1.00201999]), array([-0.01661228,  1.00013797]), array([0.063442  , 1.00201042]), array([-0.0167621 ,  1.00014047]), array([0.06329211, 1.00200094]), array([-0.01691095,  1.00014298]), array([0.06314317, 1.00199155]), array([-0.01705886,  1.00014549]), array([0.0629952 , 1.00198223])]\n"
     ]
    }
   ],
   "source": [
    "updated_pts = [initial_point]\n",
    "for i in range(1,18):\n",
    "    updated_pts.append(\n",
    "        gradient_descent( \n",
    "                         updated_pts[i-1], \n",
    "                         target,\n",
    "                         error_differential_eucl_2, \n",
    "                         geometry=\"hyperbolic\", \n",
    "                         learning_rate=0.04\n",
    "                        )\n",
    "    )\n",
    "    print(\"updated_pt = \", updated_pts[i])\n",
    "    print(\"-\"*80)\n",
    "print(updated_pts)\n"
   ]
  },
  {
   "cell_type": "code",
   "execution_count": 10,
   "metadata": {},
   "outputs": [
    {
     "data": {
      "text/plain": [
       "<matplotlib.legend.Legend at 0x106990a20>"
      ]
     },
     "execution_count": 10,
     "metadata": {},
     "output_type": "execute_result"
    },
    {
     "data": {
      "image/png": "[encoded data removed]",
      "text/plain": [
       "<Figure size 864x864 with 1 Axes>"
      ]
     },
     "metadata": {},
     "output_type": "display_data"
    }
   ],
   "source": [
    "fig = plt.figure(figsize=(12,12))\n",
    "ax = plt.gca(xlim=[-1.2, 1.2], ylim=[0.9, 1.6])\n",
    "ax.scatter(x0, x1, s=1)\n",
    "ax.scatter(target[0], target[1], color='r', marker='*',s=200,label = \"Target\")\n",
    "for i, pt in enumerate(updated_pts):\n",
    "    ax.scatter(pt[0], pt[1], marker=markers.MarkerStyle('o',fillstyle=\"none\"), s=100, label=\"Update {}\".format(i))\n",
    "ax.legend()"
   ]
  },
  {
   "cell_type": "markdown",
   "metadata": {},
   "source": [
    "## Test with spherical coordinates"
   ]
  },
  {
   "cell_type": "code",
   "execution_count": 11,
   "metadata": {},
   "outputs": [
    {
     "data": {
      "text/plain": [
       "Text(0.3,0.2,'$\\\\theta$')"
      ]
     },
     "execution_count": 11,
     "metadata": {},
     "output_type": "execute_result"
    },
    {
     "data": {
      "image/png": "[encoded data removed]",
      "text/plain": [
       "<Figure size 576x576 with 1 Axes>"
      ]
     },
     "metadata": {},
     "output_type": "display_data"
    }
   ],
   "source": [
    "fig = plt.figure(figsize=(8,8))\n",
    "ax = plt.gca(xlim=[-1.2, 1.2], ylim=[-1.2,1.2], xlabel=\"$x^0$\", ylabel=\"$x^1$\")\n",
    "circle = patches.Circle((0,0), 1., edgecolor=\"k\", fill=False)\n",
    "#ax.add_collection(collections.PatchCollection(patch_list))\n",
    "ax.add_artist(circle)\n",
    "ax.add_line(lines.Line2D([-0.6, 0.6], [1., 1.], color=\"r\", linestyle=\"-\"))\n",
    "ax.add_line(lines.Line2D([0., 1.], [0., 0.], color=\"k\", linestyle=\"--\"))\n",
    "ax.add_line(lines.Line2D([0., 0.5], [0., 0.5*np.sqrt(3)], color=\"k\", linestyle=\"--\"))\n",
    "wedge = patches.Wedge((0., 0), 0.3, 0, 60, fill=False)\n",
    "ax.add_artist(wedge)\n",
    "ax.scatter([0.],[0.], color=\"k\")\n",
    "ax.scatter([0.],[1.], color='r')\n",
    "ax.annotate(r\"$P, x=(0, 1),\\theta=\\pi/2$\", xy=(0, 1), xytext=(0, 1.05), fontsize=18, color='r')\n",
    "ax.annotate(r\"$T_P\\mathcal{S}^1$\", xy=(-0.7, 1), xytext=(-0.8, 0.97), fontsize=18, color='r')\n",
    "ax.annotate(r\"$\\mathcal{S}^1$\", xy=(-0.7, 1), xytext=(-0.92, 0.), fontsize=18, color='k')\n",
    "ax.annotate(r\"$\\theta$\", xy=(0.2, 0.2), xytext=(0.3, 0.2), fontsize=18, color='k')"
   ]
  },
  {
   "cell_type": "code",
   "execution_count": 12,
   "metadata": {},
   "outputs": [
    {
     "name": "stdout",
     "output_type": "stream",
     "text": [
      "u = [1. 0.], v = [ 0. -1.], u.v = 0.0\n",
      "coefficient*2*u*metric.dot(v)= -1*2*[1. 0.]*[[1. 0.]\n",
      " [0. 1.]].dot([ 0. -1.])\n",
      "step = [-0.  0.]\n",
      "point_on_manifold = [1. 0.], displacement = [-0.  0.]\n",
      "xp_norm = 0.0, xx_norm = 1.0\n",
      "projection on tangent space =  [-0.  0.]\n",
      "u = [nan nan], v = [ 0. -1.], u.v = nan\n",
      "coefficient*2*u*metric.dot(v)= nan*2*[nan nan]*[[1. 0.]\n",
      " [0. 1.]].dot([ 0. -1.])\n",
      "step = [nan nan]\n",
      "point_on_manifold = [nan nan], displacement = [nan nan]\n",
      "xp_norm = nan, xx_norm = nan\n",
      "projection on tangent space =  [nan nan]\n",
      "u = [nan nan], v = [ 0. -1.], u.v = nan\n",
      "coefficient*2*u*metric.dot(v)= nan*2*[nan nan]*[[1. 0.]\n",
      " [0. 1.]].dot([ 0. -1.])\n",
      "step = [nan nan]\n",
      "point_on_manifold = [nan nan], displacement = [nan nan]\n",
      "xp_norm = nan, xx_norm = nan\n",
      "projection on tangent space =  [nan nan]\n",
      "u = [nan nan], v = [ 0. -1.], u.v = nan\n",
      "coefficient*2*u*metric.dot(v)= nan*2*[nan nan]*[[1. 0.]\n",
      " [0. 1.]].dot([ 0. -1.])\n",
      "step = [nan nan]\n",
      "point_on_manifold = [nan nan], displacement = [nan nan]\n",
      "xp_norm = nan, xx_norm = nan\n",
      "projection on tangent space =  [nan nan]\n",
      "u = [nan nan], v = [ 0. -1.], u.v = nan\n",
      "coefficient*2*u*metric.dot(v)= nan*2*[nan nan]*[[1. 0.]\n",
      " [0. 1.]].dot([ 0. -1.])\n",
      "step = [nan nan]\n",
      "point_on_manifold = [nan nan], displacement = [nan nan]\n",
      "xp_norm = nan, xx_norm = nan\n",
      "projection on tangent space =  [nan nan]\n",
      "[array([1., 0.]), array([nan, nan]), array([nan, nan]), array([nan, nan]), array([nan, nan]), array([nan, nan])]\n"
     ]
    },
    {
     "name": "stderr",
     "output_type": "stream",
     "text": [
      "/Users/david/Work/ASOS/GeometryTests/geometry.py:40: RuntimeWarning: invalid value encountered in double_scalars\n",
      "  return np.cos(norm_v_tan)*point_on_manifold + (np.sin(norm_v_tan)/norm_v_tan)*v_tan\n"
     ]
    }
   ],
   "source": [
    "target2 = np.array([0., -1.])\n",
    "initial_pt2 = np.array([1., 0])\n",
    "updated_pts = [initial_pt2]\n",
    "for i in range(1,6):\n",
    "    updated_pts.append(\n",
    "        gradient_descent(updated_pts[i-1], \n",
    "                         target2, \n",
    "                         error_differential_eucl, \n",
    "                         geometry=\"spherical\", \n",
    "                         learning_rate=0.3\n",
    "                        )\n",
    "\n",
    "    )\n",
    "print(updated_pts)"
   ]
  },
  {
   "cell_type": "markdown",
   "metadata": {},
   "source": [
    "Big problems, since directly over sphere is an (unstable) equilibrium"
   ]
  },
  {
   "cell_type": "code",
   "execution_count": 13,
   "metadata": {},
   "outputs": [
    {
     "name": "stdout",
     "output_type": "stream",
     "text": [
      "u = [-0.99950656  0.03141076], v = [ 0. -1.], u.v = -0.03141075907812824\n",
      "coefficient*2*u*metric.dot(v)= -1*2*[-0.99950656  0.03141076]*[[1. 0.]\n",
      " [0. 1.]].dot([ 0. -1.])\n",
      "step = [0.         0.06285253]\n",
      "point_on_manifold = [-0.99950656  0.03141076], displacement = [0.         0.06285253]\n",
      "xp_norm = 0.0019742457428257275, xx_norm = 1.0\n",
      "projection on tangent space =  [0.00197327 0.06279052]\n",
      "u = [-0.99873711  0.05024122], v = [ 0. -1.], u.v = -0.05024122162090024\n",
      "coefficient*2*u*metric.dot(v)= -1.001*2*[-0.99873711  0.05024122]*[[1. 0.]\n",
      " [0. 1.]].dot([ 0. -1.])\n",
      "step = [0.        0.1006095]\n",
      "point_on_manifold = [-0.99873711  0.05024122], displacement = [0.        0.1006095]\n",
      "xp_norm = 0.0050547442738741715, xx_norm = 1.0\n",
      "projection on tangent space =  [0.00504836 0.10035555]\n",
      "u = [-0.99676909  0.0803205 ], v = [ 0. -1.], u.v = -0.08032050021744792\n",
      "coefficient*2*u*metric.dot(v)= -1.003*2*[-0.99676909  0.0803205 ]*[[1. 0.]\n",
      " [0. 1.]].dot([ 0. -1.])\n",
      "step = [0.        0.1611617]\n",
      "point_on_manifold = [-0.99676909  0.0803205 ], displacement = [0.        0.1611617]\n",
      "xp_norm = 0.012944588320176281, xx_norm = 1.0\n",
      "projection on tangent space =  [0.01290277 0.16012198]\n",
      "u = [-0.99174248  0.12824525], v = [ 0. -1.], u.v = -0.12824524929627312\n",
      "coefficient*2*u*metric.dot(v)= -1.008*2*[-0.99174248  0.12824525]*[[1. 0.]\n",
      " [0. 1.]].dot([ 0. -1.])\n",
      "step = [0.         0.25862611]\n",
      "point_on_manifold = [-0.99174248  0.12824525], displacement = [0.         0.25862611]\n",
      "xp_norm = 0.03316756964671047, xx_norm = 1.0\n",
      "projection on tangent space =  [0.03289369 0.25437252]\n",
      "u = [-0.97894958  0.20410225], v = [ 0. -1.], u.v = -0.20410224960962503\n",
      "coefficient*2*u*metric.dot(v)= -1.022*2*[-0.97894958  0.20410225]*[[1. 0.]\n",
      " [0. 1.]].dot([ 0. -1.])\n",
      "step = [0.         0.41698215]\n",
      "point_on_manifold = [-0.97894958  0.20410225], displacement = [0.         0.41698215]\n",
      "xp_norm = 0.08510699494854534, xx_norm = 1.0000000000000004\n",
      "projection on tangent space =  [0.08331546 0.39961162]\n",
      "[array([-0.99950656,  0.03141076]), array([-0.99873711,  0.05024122]), array([-0.99676909,  0.0803205 ]), array([-0.99174248,  0.12824525]), array([-0.97894958,  0.20410225]), array([-0.94668599,  0.32215779])]\n"
     ]
    }
   ],
   "source": [
    "target2 = np.array([0., -1.])\n",
    "initial_pt2 = np.array([np.cos(0.99*np.pi), np.sin(0.99*np.pi)])\n",
    "updated_pts = [initial_pt2]\n",
    "for i in range(1,6):\n",
    "    updated_pts.append(\n",
    "        gradient_descent(updated_pts[i-1], \n",
    "                         target2, \n",
    "                         error_differential_eucl, \n",
    "                         geometry=\"spherical\", \n",
    "                         learning_rate=0.3\n",
    "                        )\n",
    "\n",
    "    )\n",
    "print(updated_pts)"
   ]
  },
  {
   "cell_type": "code",
   "execution_count": 14,
   "metadata": {},
   "outputs": [
    {
     "name": "stdout",
     "output_type": "stream",
     "text": [
      "\n"
     ]
    }
   ],
   "source": [
    "metric = np.eye(2)\n",
    "metric[-1, -1] = -1\n",
    "print()"
   ]
  },
  {
   "cell_type": "code",
   "execution_count": null,
   "metadata": {},
   "outputs": [],
   "source": []
  }
 ],
 "metadata": {
  "kernelspec": {
   "display_name": "Python 3",
   "language": "python",
   "name": "python3"
  },
  "language_info": {
   "codemirror_mode": {
    "name": "ipython",
    "version": 3
   },
   "file_extension": ".py",
   "mimetype": "text/x-python",
   "name": "python",
   "nbconvert_exporter": "python",
   "pygments_lexer": "ipython3",
   "version": "3.7.0"
  }
 },
 "nbformat": 4,
 "nbformat_minor": 2
}
