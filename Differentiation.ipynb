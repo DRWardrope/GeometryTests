{
 "cells": [
  {
   "cell_type": "markdown",
   "metadata": {},
   "source": [
    "# Test differentation\n",
    "\n",
    "Set up simple loss function"
   ]
  },
  {
   "cell_type": "code",
   "execution_count": 1,
   "metadata": {},
   "outputs": [],
   "source": [
    "import numpy as np\n",
    "import matplotlib.pyplot as plt\n",
    "from matplotlib import collections, lines, markers, path, patches\n",
    "%matplotlib inline"
   ]
  },
  {
   "cell_type": "code",
   "execution_count": 2,
   "metadata": {},
   "outputs": [],
   "source": [
    "from geometry import *"
   ]
  },
  {
   "cell_type": "code",
   "execution_count": 3,
   "metadata": {},
   "outputs": [],
   "source": [
    "def error_differential_eucl(u, v, geometry=\"hyperbolic\"):\n",
    "    '''\n",
    "        Calculate differential of distance between points u and v, accounting for different\n",
    "        geometries by implementing an appropriate metric.\n",
    "        Inputs:\n",
    "            u: (d+1)-dimensional vector, expressed in ambient space coordinates\n",
    "            v: (d+1)-dimensional vector, expressed in ambient space coordinates\n",
    "            geometry: specifies which metric to use (and hence how inner product calculated)\n",
    "        Outputs:\n",
    "            gradient of the distance in (d+1)-dimensional ambient space coordinates\n",
    "    '''\n",
    "    # If u and v are identical, the gradient should be zero\n",
    "    if np.array_equal(u, v):\n",
    "        return np.zeros(u.shape)\n",
    "    # If u and v are different, calculate the gradient\n",
    "    metric = np.ones([u.shape[0], u.shape[0]])\n",
    "    if geometry == \"hyperbolic\":\n",
    "        metric[-1, -1] *= -1.\n",
    "    coeff = -1./np.sqrt(1.-dot(u,v, geometry)) #Undefined if u and v co-incide\n",
    "    return coeff*2*u*v.dot(metric)"
   ]
  },
  {
   "cell_type": "code",
   "execution_count": 4,
   "metadata": {},
   "outputs": [],
   "source": [
    "theta = np.linspace(-0.323*np.pi, 0.323*np.pi, 1000)\n",
    "x0 = np.sinh(theta)\n",
    "x1 = np.cosh(theta)\n",
    "x = np.array([np.array([x0i, x1i]) for x0i, x1i in zip(x0, x1)])"
   ]
  },
  {
   "cell_type": "code",
   "execution_count": 5,
   "metadata": {},
   "outputs": [],
   "source": [
    "target = np.array([0., 1.])\n",
    "initial_point = np.array([np.sinh(0.9), np.cosh(0.9)])"
   ]
  },
  {
   "cell_type": "code",
   "execution_count": 6,
   "metadata": {},
   "outputs": [
    {
     "data": {
      "text/plain": [
       "<matplotlib.collections.PathCollection at 0x110e6bb70>"
      ]
     },
     "execution_count": 6,
     "metadata": {},
     "output_type": "execute_result"
    },
    {
     "data": {
      "image/png": "[encoded data removed]",
      "text/plain": [
       "<Figure size 576x576 with 1 Axes>"
      ]
     },
     "metadata": {},
     "output_type": "display_data"
    }
   ],
   "source": [
    "fig = plt.figure(figsize=(8,8))\n",
    "ax = plt.gca(xlim=[-1.2, 1.5], ylim=[0.8, 1.6])\n",
    "ax.scatter(x0, x1, s=1)\n",
    "ax.scatter(target[0], target[1], color='r')\n",
    "ax.scatter(initial_point[0], initial_point[1])"
   ]
  },
  {
   "cell_type": "code",
   "execution_count": 7,
   "metadata": {},
   "outputs": [],
   "source": [
    "first_step = -1.*error_differential_eucl(initial_point, target, geometry=\"hyperbolic\")"
   ]
  },
  {
   "cell_type": "code",
   "execution_count": 8,
   "metadata": {},
   "outputs": [
    {
     "name": "stdout",
     "output_type": "stream",
     "text": [
      "norm_v_tan =  3.7724164258565525\n",
      "[53.47326586 53.48261551]\n"
     ]
    }
   ],
   "source": [
    "projection = project_to_tangent(initial_point, first_step, geometry=\"hyperbolic\")\n",
    "second_point = exponential_map(projection, initial_point, geometry=\"hyperbolic\")\n",
    "print(second_point)"
   ]
  },
  {
   "cell_type": "code",
   "execution_count": 9,
   "metadata": {},
   "outputs": [],
   "source": [
    "def gradient_descent(pt_i, target, differential_fn, geometry=\"hyperbolic\", learning_rate=1.):\n",
    "    '''\n",
    "        Calculate local gradient of differential, given the current pt and the target.\n",
    "        Inputs:\n",
    "                Two (d+1)-dimensional vectors in ambient space co-ordinates, pt_i and target\n",
    "                pt_i: (d+1)-dimensional vector in ambient space co-ordinates,\n",
    "                       the point to evaluate the gradient at.\n",
    "                target: (d+1)-dimensional vectors in ambient space co-ordinates, the target point\n",
    "                differential_fn: function that calculates the derivative\n",
    "                learning_rate: dictates how far to step in gradient direction\n",
    "    '''\n",
    "    # Calculate gradient in ambient space co-ordinates\n",
    "    step = -learning_rate*differential_fn(pt_i, target, geometry)\n",
    "    # Project this gradient onto tangent space\n",
    "    projection = project_to_tangent(pt_i, step, geometry)\n",
    "    # Map to manifold and return this updated pt\n",
    "    return exponential_map(projection, pt_i, geometry)"
   ]
  },
  {
   "cell_type": "code",
   "execution_count": 11,
   "metadata": {},
   "outputs": [
    {
     "name": "stdout",
     "output_type": "stream",
     "text": [
      "norm_v_tan =  1.131724927756966\n",
      "norm_v_tan =  7.898666371575976\n",
      "norm_v_tan =  1249356.377993085\n",
      "norm_v_tan =  nan\n",
      "norm_v_tan =  nan\n",
      "norm_v_tan =  nan\n",
      "norm_v_tan =  nan\n"
     ]
    },
    {
     "name": "stderr",
     "output_type": "stream",
     "text": [
      "/Users/david/Work/ASOS/GeometryTests/geometry.py:38: RuntimeWarning: overflow encountered in cosh\n",
      "  return np.cosh(norm_v_tan)*point_on_manifold + (np.sinh(norm_v_tan)/norm_v_tan)*v_tan\n",
      "/Users/david/Work/ASOS/GeometryTests/geometry.py:38: RuntimeWarning: overflow encountered in sinh\n",
      "  return np.cosh(norm_v_tan)*point_on_manifold + (np.sinh(norm_v_tan)/norm_v_tan)*v_tan\n",
      "/Users/david/Work/ASOS/GeometryTests/geometry.py:11: RuntimeWarning: invalid value encountered in double_scalars\n",
      "  return u[:-1].dot(v[:-1])-u[-1]*v[-1]\n"
     ]
    }
   ],
   "source": [
    "updated_pts = [initial_point]\n",
    "for i in range(1,8):\n",
    "    updated_pts.append(\n",
    "        gradient_descent(updated_pts[i-1], \n",
    "                         target, \n",
    "                         error_differential_eucl, \n",
    "                         geometry=\"hyperbolic\", \n",
    "                         learning_rate=0.3\n",
    "                        )\n",
    "\n",
    "    )"
   ]
  },
  {
   "cell_type": "code",
   "execution_count": 12,
   "metadata": {},
   "outputs": [
    {
     "data": {
      "text/plain": [
       "<matplotlib.legend.Legend at 0x11117de10>"
      ]
     },
     "execution_count": 12,
     "metadata": {},
     "output_type": "execute_result"
    },
    {
     "data": {
      "image/png": "[encoded data removed]",
      "text/plain": [
       "<Figure size 864x864 with 1 Axes>"
      ]
     },
     "metadata": {},
     "output_type": "display_data"
    }
   ],
   "source": [
    "fig = plt.figure(figsize=(12,12))\n",
    "ax = plt.gca(xlim=[-1.2, 1.2], ylim=[0.9, 1.6])\n",
    "ax.scatter(x0, x1, s=1)\n",
    "ax.scatter(target[0], target[1], color='r', marker='*',s=200,label = \"Target\")\n",
    "for i, pt in enumerate(updated_pts):\n",
    "    ax.scatter(pt[0], pt[1], marker=markers.MarkerStyle('o',fillstyle=\"none\"), s=100, label=\"Update {}\".format(i))\n",
    "ax.legend()"
   ]
  },
  {
   "cell_type": "code",
   "execution_count": null,
   "metadata": {},
   "outputs": [],
   "source": []
  }
 ],
 "metadata": {
  "kernelspec": {
   "display_name": "Python 3",
   "language": "python",
   "name": "python3"
  },
  "language_info": {
   "codemirror_mode": {
    "name": "ipython",
    "version": 3
   },
   "file_extension": ".py",
   "mimetype": "text/x-python",
   "name": "python",
   "nbconvert_exporter": "python",
   "pygments_lexer": "ipython3",
   "version": "3.7.0"
  }
 },
 "nbformat": 4,
 "nbformat_minor": 2
}
