{
 "cells": [
  {
   "cell_type": "markdown",
   "metadata": {},
   "source": [
    "# Test differential geometry operations using sphere test case\n",
    "\n",
    "Try 1-D sphere as first example..."
   ]
  },
  {
   "cell_type": "code",
   "execution_count": 3,
   "metadata": {},
   "outputs": [],
   "source": [
    "import numpy as np\n",
    "import matplotlib.pyplot as plt\n",
    "from matplotlib import collections, lines, path, patches\n",
    "%matplotlib inline"
   ]
  },
  {
   "cell_type": "markdown",
   "metadata": {},
   "source": [
    "## Adding vectors in tangent space"
   ]
  },
  {
   "cell_type": "code",
   "execution_count": 4,
   "metadata": {},
   "outputs": [],
   "source": [
    "from geometry import *"
   ]
  },
  {
   "cell_type": "markdown",
   "metadata": {},
   "source": [
    "## Tests of dot:\n",
    "Null vector dotted with unit vector, expect zero in all cases"
   ]
  },
  {
   "cell_type": "code",
   "execution_count": 6,
   "metadata": {},
   "outputs": [
    {
     "name": "stdout",
     "output_type": "stream",
     "text": [
      "(1, 1)\n",
      "u.T.shape = (1, 1), v.shape = (1, 1), metric.shape = (1, 1)\n"
     ]
    },
    {
     "ename": "NameError",
     "evalue": "name 'metric_dot' is not defined",
     "output_type": "error",
     "traceback": [
      "\u001b[0;31m---------------------------------------------------------------------------\u001b[0m",
      "\u001b[0;31mNameError\u001b[0m                                 Traceback (most recent call last)",
      "\u001b[0;32m<ipython-input-6-d4dcb80961b6>\u001b[0m in \u001b[0;36m<module>\u001b[0;34m()\u001b[0m\n\u001b[1;32m      4\u001b[0m \u001b[0;32mfor\u001b[0m \u001b[0mgeometry\u001b[0m \u001b[0;32min\u001b[0m \u001b[0;34m[\u001b[0m\u001b[0;34m\"spherical\"\u001b[0m\u001b[0;34m,\u001b[0m \u001b[0;34m\"hyperbolic\"\u001b[0m\u001b[0;34m]\u001b[0m\u001b[0;34m:\u001b[0m\u001b[0;34m\u001b[0m\u001b[0m\n\u001b[1;32m      5\u001b[0m     print(\"Original dot = {}, metric dot = {}\".format(\n\u001b[0;32m----> 6\u001b[0;31m             dot(u, v, geometry), metric_dot(u, v, geometry)))\n\u001b[0m",
      "\u001b[0;31mNameError\u001b[0m: name 'metric_dot' is not defined"
     ]
    }
   ],
   "source": [
    "u = np.ones([1,1])\n",
    "print(u.shape)\n",
    "v = np.zeros([1,1])\n",
    "for geometry in [\"spherical\", \"hyperbolic\"]:\n",
    "    print(\"Original dot = {}, metric dot = {}\".format(\n",
    "            dot(u, v, geometry), metric_dot(u, v, geometry)))"
   ]
  },
  {
   "cell_type": "markdown",
   "metadata": {},
   "source": [
    "Dot parallel unit vectors, expect two in euclidean and zero in hyperbolic cases."
   ]
  },
  {
   "cell_type": "code",
   "execution_count": null,
   "metadata": {},
   "outputs": [],
   "source": [
    "u = np.ones([2, 1])\n",
    "v = np.ones([2, 1])\n",
    "for geometry in [\"spherical\", \"hyperbolic\"]:\n",
    "    print(\"Original dot = {}, metric dot = {}\".format(\n",
    "            dot(u, v, geometry), metric_dot(u, v, geometry)))"
   ]
  },
  {
   "cell_type": "markdown",
   "metadata": {},
   "source": [
    "Dot anti-parallel unit vectors, expect Euclidean - -2 and hyperbolic = 0."
   ]
  },
  {
   "cell_type": "code",
   "execution_count": null,
   "metadata": {
    "scrolled": true
   },
   "outputs": [],
   "source": [
    "v = -v\n",
    "for geometry in [\"spherical\", \"hyperbolic\"]:\n",
    "    print(\"Original dot = {}, metric dot = {}\".format(\n",
    "            dot(u, v, geometry), metric_dot(u, v, geometry)))"
   ]
  },
  {
   "cell_type": "markdown",
   "metadata": {},
   "source": [
    "Dot perpendicular vectors, expect zero in Euclidean case and two in hyperbolic"
   ]
  },
  {
   "cell_type": "code",
   "execution_count": null,
   "metadata": {},
   "outputs": [],
   "source": [
    "u = np.ones(2)\n",
    "v = np.array([1, -1])\n",
    "for geometry in [\"spherical\", \"hyperbolic\"]:\n",
    "    print(\"Original dot = {}, metric dot = {}\".format(\n",
    "            dot(u, v, geometry), metric_dot(u, v, geometry)))"
   ]
  }
 ],
 "metadata": {
  "kernelspec": {
   "display_name": "Python 3",
   "language": "python",
   "name": "python3"
  },
  "language_info": {
   "codemirror_mode": {
    "name": "ipython",
    "version": 3
   },
   "file_extension": ".py",
   "mimetype": "text/x-python",
   "name": "python",
   "nbconvert_exporter": "python",
   "pygments_lexer": "ipython3",
   "version": "3.7.0"
  }
 },
 "nbformat": 4,
 "nbformat_minor": 2
}
