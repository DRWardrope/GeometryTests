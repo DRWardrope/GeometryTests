{
 "cells": [
  {
   "cell_type": "markdown",
   "metadata": {},
   "source": [
    "# Test differential geometry operations using sphere test case\n",
    "\n",
    "Try 1-D sphere as first example..."
   ]
  },
  {
   "cell_type": "code",
   "execution_count": 2,
   "metadata": {},
   "outputs": [],
   "source": [
    "import numpy as np\n",
    "import matplotlib.pyplot as plt\n",
    "from matplotlib import collections, lines, path, patches\n",
    "%matplotlib inline"
   ]
  },
  {
   "cell_type": "markdown",
   "metadata": {},
   "source": [
    "## Adding vectors in tangent space"
   ]
  },
  {
   "cell_type": "code",
   "execution_count": 4,
   "metadata": {},
   "outputs": [],
   "source": [
    "from geometry import *"
   ]
  },
  {
   "cell_type": "code",
   "execution_count": 5,
   "metadata": {},
   "outputs": [],
   "source": [
    "def metric_dot(u, v, geometry=\"spherical\"):\n",
    "    '''\n",
    "        Calculate dot_product for two n-D vectors, u and v\n",
    "        Inputs: u, v: two vectors, represented as np.arrays\n",
    "        Outputs: dot_product, a 1-D real number\n",
    "    '''\n",
    "    metric = get_metric(u.shape[0], geometry)\n",
    "    return u.dot(metric.dot(v))"
   ]
  },
  {
   "cell_type": "markdown",
   "metadata": {},
   "source": [
    "## Tests of dot:\n",
    "Null vector dotted with unit vector, expect zero in all cases"
   ]
  },
  {
   "cell_type": "code",
   "execution_count": 6,
   "metadata": {},
   "outputs": [
    {
     "name": "stdout",
     "output_type": "stream",
     "text": [
      "Original dot = 0.0, metric dot = 0.0\n",
      "Original dot = 0.0, metric dot = -0.0\n"
     ]
    }
   ],
   "source": [
    "u = np.ones(1)\n",
    "v = np.zeros(1)\n",
    "for geometry in [\"spherical\", \"hyperbolic\"]:\n",
    "    print(\"Original dot = {}, metric dot = {}\".format(\n",
    "            dot(u, v, geometry), metric_dot(u, v, geometry)))"
   ]
  },
  {
   "cell_type": "markdown",
   "metadata": {},
   "source": [
    "Dot parallel unit vectors, expect two in euclidean and zero in hyperbolic cases."
   ]
  },
  {
   "cell_type": "code",
   "execution_count": 7,
   "metadata": {},
   "outputs": [
    {
     "name": "stdout",
     "output_type": "stream",
     "text": [
      "Original dot = 2.0, metric dot = 2.0\n",
      "Original dot = 0.0, metric dot = 0.0\n"
     ]
    }
   ],
   "source": [
    "u = np.ones(2)\n",
    "v = np.ones(2)\n",
    "for geometry in [\"spherical\", \"hyperbolic\"]:\n",
    "    print(\"Original dot = {}, metric dot = {}\".format(\n",
    "            dot(u, v, geometry), metric_dot(u, v, geometry)))"
   ]
  },
  {
   "cell_type": "markdown",
   "metadata": {},
   "source": [
    "Dot anti-parallel unit vectors, expect Euclidean - -2 and hyperbolic = 0."
   ]
  },
  {
   "cell_type": "code",
   "execution_count": 8,
   "metadata": {
    "scrolled": true
   },
   "outputs": [
    {
     "name": "stdout",
     "output_type": "stream",
     "text": [
      "Original dot = -2.0, metric dot = -2.0\n",
      "Original dot = 0.0, metric dot = 0.0\n"
     ]
    }
   ],
   "source": [
    "v = -v\n",
    "for geometry in [\"spherical\", \"hyperbolic\"]:\n",
    "    print(\"Original dot = {}, metric dot = {}\".format(\n",
    "            dot(u, v, geometry), metric_dot(u, v, geometry)))"
   ]
  },
  {
   "cell_type": "markdown",
   "metadata": {},
   "source": [
    "Dot perpendicular vectors, expect zero in Euclidean case and two in hyperbolic"
   ]
  },
  {
   "cell_type": "code",
   "execution_count": 10,
   "metadata": {},
   "outputs": [
    {
     "name": "stdout",
     "output_type": "stream",
     "text": [
      "Original dot = 0.0, metric dot = 0.0\n",
      "Original dot = 2.0, metric dot = 2.0\n"
     ]
    }
   ],
   "source": [
    "u = np.ones(2)\n",
    "v = np.array([1, -1])\n",
    "for geometry in [\"spherical\", \"hyperbolic\"]:\n",
    "    print(\"Original dot = {}, metric dot = {}\".format(\n",
    "            dot(u, v, geometry), metric_dot(u, v, geometry)))"
   ]
  }
 ],
 "metadata": {
  "kernelspec": {
   "display_name": "Python 3",
   "language": "python",
   "name": "python3"
  },
  "language_info": {
   "codemirror_mode": {
    "name": "ipython",
    "version": 3
   },
   "file_extension": ".py",
   "mimetype": "text/x-python",
   "name": "python",
   "nbconvert_exporter": "python",
   "pygments_lexer": "ipython3",
   "version": "3.7.0"
  }
 },
 "nbformat": 4,
 "nbformat_minor": 2
}
