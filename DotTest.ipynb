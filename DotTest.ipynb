{
 "cells": [
  {
   "cell_type": "markdown",
   "metadata": {},
   "source": [
    "# Test differential geometry operations using sphere test case\n",
    "\n",
    "Try 1-D sphere as first example..."
   ]
  },
  {
   "cell_type": "code",
   "execution_count": 3,
   "metadata": {},
   "outputs": [],
   "source": [
    "import numpy as np\n",
    "import matplotlib.pyplot as plt\n",
    "from matplotlib import collections, lines, path, patches\n",
    "%matplotlib inline"
   ]
  },
  {
   "cell_type": "markdown",
   "metadata": {},
   "source": [
    "## Adding vectors in tangent space"
   ]
  },
  {
   "cell_type": "code",
   "execution_count": 4,
   "metadata": {},
   "outputs": [],
   "source": [
    "from geometry import *"
   ]
  },
  {
   "cell_type": "markdown",
   "metadata": {},
   "source": [
    "## Tests of dot:\n",
    "Null vector dotted with unit vector, expect zero in all cases"
   ]
  },
  {
   "cell_type": "code",
   "execution_count": 9,
   "metadata": {},
   "outputs": [
    {
     "name": "stdout",
     "output_type": "stream",
     "text": [
      "(1, 1)\n",
      "u.T.shape = (1, 1), v.shape = (1, 1), metric.shape = (1, 1)\n",
      "Original dot = [[0.]]\n",
      "u.T.shape = (1, 1), v.shape = (1, 1), metric.shape = (1, 1)\n",
      "Original dot = [[-0.]]\n"
     ]
    }
   ],
   "source": [
    "u = np.ones([1,1])\n",
    "print(u.shape)\n",
    "v = np.zeros([1,1])\n",
    "for geometry in [\"spherical\", \"hyperbolic\"]:\n",
    "    print(\"Original dot = {}\".format(\n",
    "            dot(u, v, geometry)\n",
    "            )\n",
    "         )"
   ]
  },
  {
   "cell_type": "markdown",
   "metadata": {},
   "source": [
    "Dot parallel unit vectors, expect two in euclidean and zero in hyperbolic cases."
   ]
  },
  {
   "cell_type": "code",
   "execution_count": 12,
   "metadata": {},
   "outputs": [
    {
     "name": "stdout",
     "output_type": "stream",
     "text": [
      "u.T.shape = (1, 2), v.shape = (2, 1), metric.shape = (2, 2)\n",
      "Original dot = [[2.]]\n",
      "u.T.shape = (1, 2), v.shape = (2, 1), metric.shape = (2, 2)\n",
      "Original dot = [[0.]]\n"
     ]
    }
   ],
   "source": [
    "u = np.ones([2, 1])\n",
    "v = np.ones([2, 1])\n",
    "for geometry in [\"spherical\", \"hyperbolic\"]:\n",
    "    print(\"Original dot = {}\".format(\n",
    "            dot(u, v, geometry)))"
   ]
  },
  {
   "cell_type": "markdown",
   "metadata": {},
   "source": [
    "Dot anti-parallel unit vectors, expect Euclidean - -2 and hyperbolic = 0."
   ]
  },
  {
   "cell_type": "code",
   "execution_count": 13,
   "metadata": {
    "scrolled": true
   },
   "outputs": [
    {
     "name": "stdout",
     "output_type": "stream",
     "text": [
      "u.T.shape = (1, 2), v.shape = (2, 1), metric.shape = (2, 2)\n",
      "Original dot = [[-2.]]\n",
      "u.T.shape = (1, 2), v.shape = (2, 1), metric.shape = (2, 2)\n",
      "Original dot = [[0.]]\n"
     ]
    }
   ],
   "source": [
    "v = -v\n",
    "for geometry in [\"spherical\", \"hyperbolic\"]:\n",
    "    print(\"Original dot = {}\".format(\n",
    "            dot(u, v, geometry)))"
   ]
  },
  {
   "cell_type": "markdown",
   "metadata": {},
   "source": [
    "Dot perpendicular vectors, expect zero in Euclidean case and two in hyperbolic"
   ]
  },
  {
   "cell_type": "code",
   "execution_count": 16,
   "metadata": {},
   "outputs": [
    {
     "name": "stdout",
     "output_type": "stream",
     "text": [
      "u.T.shape = (1, 2), v.shape = (2, 1), metric.shape = (2, 2)\n",
      "Original dot = [[0.]]\n",
      "u.T.shape = (1, 2), v.shape = (2, 1), metric.shape = (2, 2)\n",
      "Original dot = [[2.]]\n"
     ]
    }
   ],
   "source": [
    "u = np.ones([2,1])\n",
    "v = np.array([[1, -1]]).T\n",
    "for geometry in [\"spherical\", \"hyperbolic\"]:\n",
    "    print(\"Original dot = {}\".format(\n",
    "            dot(u, v, geometry)))"
   ]
  },
  {
   "cell_type": "code",
   "execution_count": 19,
   "metadata": {},
   "outputs": [],
   "source": [
    "u = np.hstack([np.ones([2,1]), np.array([[1, -1]]).T])"
   ]
  },
  {
   "cell_type": "code",
   "execution_count": 20,
   "metadata": {},
   "outputs": [
    {
     "name": "stdout",
     "output_type": "stream",
     "text": [
      "[[ 1.  1.]\n",
      " [ 1. -1.]]\n"
     ]
    }
   ],
   "source": [
    "print(u)"
   ]
  },
  {
   "cell_type": "code",
   "execution_count": 23,
   "metadata": {},
   "outputs": [
    {
     "name": "stdout",
     "output_type": "stream",
     "text": [
      "[[ 1.  1.]\n",
      " [ 1. -1.]]\n"
     ]
    }
   ],
   "source": [
    "print(u.T)"
   ]
  },
  {
   "cell_type": "code",
   "execution_count": 24,
   "metadata": {},
   "outputs": [
    {
     "name": "stdout",
     "output_type": "stream",
     "text": [
      "[[ 1.  0.]\n",
      " [ 1. -1.]]\n"
     ]
    }
   ],
   "source": [
    "v = np.hstack([np.ones([2,1]), np.array([[0, -1]]).T])\n",
    "print(v)"
   ]
  },
  {
   "cell_type": "code",
   "execution_count": 22,
   "metadata": {},
   "outputs": [
    {
     "name": "stdout",
     "output_type": "stream",
     "text": [
      "u.T.shape = (2, 2), v.shape = (2, 2), metric.shape = (2, 2)\n"
     ]
    },
    {
     "data": {
      "text/plain": [
       "array([[ 2., -1.],\n",
       "       [ 0.,  1.]])"
      ]
     },
     "execution_count": 22,
     "metadata": {},
     "output_type": "execute_result"
    }
   ],
   "source": [
    "dot(u, v)"
   ]
  },
  {
   "cell_type": "code",
   "execution_count": 27,
   "metadata": {},
   "outputs": [
    {
     "data": {
      "text/plain": [
       "2.0"
      ]
     },
     "execution_count": 27,
     "metadata": {},
     "output_type": "execute_result"
    }
   ],
   "source": [
    "np.sum(u[:, 0]*v[:,0])"
   ]
  },
  {
   "cell_type": "code",
   "execution_count": null,
   "metadata": {},
   "outputs": [],
   "source": []
  }
 ],
 "metadata": {
  "kernelspec": {
   "display_name": "Python 3",
   "language": "python",
   "name": "python3"
  },
  "language_info": {
   "codemirror_mode": {
    "name": "ipython",
    "version": 3
   },
   "file_extension": ".py",
   "mimetype": "text/x-python",
   "name": "python",
   "nbconvert_exporter": "python",
   "pygments_lexer": "ipython3",
   "version": "3.7.0"
  }
 },
 "nbformat": 4,
 "nbformat_minor": 2
}
